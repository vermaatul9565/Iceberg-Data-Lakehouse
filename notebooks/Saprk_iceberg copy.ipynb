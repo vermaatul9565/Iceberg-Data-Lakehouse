{
 "cells": [
  {
   "cell_type": "code",
   "execution_count": 1,
   "id": "8d1ab65f-8e31-44b8-9fa0-8b25aea412fb",
   "metadata": {},
   "outputs": [
    {
     "name": "stderr",
     "output_type": "stream",
     "text": [
      "25/09/15 10:40:08 WARN Utils: Service 'SparkUI' could not bind on port 4040. Attempting port 4041.\n",
      "25/09/15 10:40:08 WARN Utils: Service 'SparkUI' could not bind on port 4041. Attempting port 4042.\n",
      "25/09/15 10:40:08 WARN Utils: Service 'SparkUI' could not bind on port 4042. Attempting port 4043.\n"
     ]
    }
   ],
   "source": [
    "from config.spark import SparkIcebergConfig\n",
    "\n",
    "# Stop existing session\n",
    "if 'spark' in globals():\n",
    "    spark.stop()\n",
    "\n",
    "# Create new session with desired configuration\n",
    "spark = SparkIcebergConfig.create_session(\"glue\")  # or \"glue\" or \"rest\""
   ]
  },
  {
   "cell_type": "code",
   "execution_count": 4,
   "id": "cf5453f3-090b-4873-8da8-969d25679e21",
   "metadata": {},
   "outputs": [
    {
     "name": "stdout",
     "output_type": "stream",
     "text": [
      "+-------------+\n",
      "|      catalog|\n",
      "+-------------+\n",
      "|         glue|\n",
      "|spark_catalog|\n",
      "+-------------+\n",
      "\n"
     ]
    }
   ],
   "source": [
    "spark.sql(\"SHOW CATALOGS\").show()"
   ]
  },
  {
   "cell_type": "code",
   "execution_count": 5,
   "id": "ab859f38-7604-4194-8144-655b50acb8fb",
   "metadata": {},
   "outputs": [
    {
     "name": "stdout",
     "output_type": "stream",
     "text": [
      "+---------+\n",
      "|namespace|\n",
      "+---------+\n",
      "|     demo|\n",
      "+---------+\n",
      "\n"
     ]
    }
   ],
   "source": [
    "spark.sql(\"SHOW NAMESPACES\").show()"
   ]
  },
  {
   "cell_type": "code",
   "execution_count": null,
   "id": "ba52c1e9",
   "metadata": {},
   "outputs": [],
   "source": [
    "spark.sql(\"USE glue.demo\");"
   ]
  },
  {
   "cell_type": "code",
   "execution_count": null,
   "id": "48bdb223",
   "metadata": {},
   "outputs": [],
   "source": [
    "# load data from iceberg table\n",
    "df = spark.sql(\"SELECT * FROM glue.demo.customers\").show()\n",
    "df.show()"
   ]
  },
  {
   "cell_type": "code",
   "execution_count": null,
   "id": "fe122630-09d8-489a-96cc-e8ef22be41cc",
   "metadata": {},
   "outputs": [],
   "source": [
    "spark.sql(\"CREATE NAMESPACES IF NOT EXISTS bronze\").show()"
   ]
  },
  {
   "cell_type": "code",
   "execution_count": null,
   "id": "39a55f41",
   "metadata": {},
   "outputs": [],
   "source": [
    "# load data to iceberg table from s3\n",
    "data_path = \"s3://9565atulverma-s3-bucket/user.csv\"\n",
    "df = spark.read.option(\"header\", \"true\").csv(data_path)\n",
    "df.writeTo(\"glue.demo.users\").createOrReplace()   "
   ]
  }
 ],
 "metadata": {
  "kernelspec": {
   "display_name": "Python 3 (ipykernel)",
   "language": "python",
   "name": "python3"
  },
  "language_info": {
   "codemirror_mode": {
    "name": "ipython",
    "version": 3
   },
   "file_extension": ".py",
   "mimetype": "text/x-python",
   "name": "python",
   "nbconvert_exporter": "python",
   "pygments_lexer": "ipython3",
   "version": "3.10.16"
  }
 },
 "nbformat": 4,
 "nbformat_minor": 5
}
