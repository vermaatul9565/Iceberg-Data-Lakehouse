{
 "cells": [
  {
   "cell_type": "code",
   "execution_count": 15,
   "id": "0a86d5d5-984e-4645-88b8-c5ff5c3047e8",
   "metadata": {},
   "outputs": [],
   "source": [
    "from config.spark import SparkIcebergConfig\n",
    "\n",
    "# Stop existing session\n",
    "if 'spark' in globals():\n",
    "    spark.stop()\n",
    "\n",
    "# Create new session with desired configuration\n",
    "spark = SparkIcebergConfig.create_session(\"glue\")  # or \"glue\" or \"rest\""
   ]
  },
  {
   "cell_type": "code",
   "execution_count": 16,
   "id": "1630a146-1883-4351-82fe-2b1a5f9c218c",
   "metadata": {},
   "outputs": [
    {
     "name": "stderr",
     "output_type": "stream",
     "text": [
      "25/09/15 09:46:12 WARN SparkSession: Using an existing Spark session; only runtime SQL configurations will take effect.\n"
     ]
    },
    {
     "data": {
      "text/html": [
       "<table>\n",
       "    <thead>\n",
       "        <tr>\n",
       "            <th>namespace</th>\n",
       "        </tr>\n",
       "    </thead>\n",
       "    <tbody>\n",
       "        <tr>\n",
       "            <td>demo</td>\n",
       "        </tr>\n",
       "    </tbody>\n",
       "</table>"
      ],
      "text/plain": [
       "+-----------+\n",
       "| namespace |\n",
       "+-----------+\n",
       "|      demo |\n",
       "+-----------+"
      ]
     },
     "execution_count": 16,
     "metadata": {},
     "output_type": "execute_result"
    }
   ],
   "source": [
    "%%sql\n",
    "SHOW NAMESPACES IN glue;"
   ]
  },
  {
   "cell_type": "code",
   "execution_count": 3,
   "id": "ecdbc180-73f7-48e6-88e2-a49a4eb49b89",
   "metadata": {},
   "outputs": [
    {
     "data": {
      "text/html": [
       "<table>\n",
       "    <thead>\n",
       "        <tr>\n",
       "        </tr>\n",
       "    </thead>\n",
       "    <tbody>\n",
       "    </tbody>\n",
       "</table>"
      ],
      "text/plain": [
       "++\n",
       "||\n",
       "++\n",
       "++"
      ]
     },
     "execution_count": 3,
     "metadata": {},
     "output_type": "execute_result"
    }
   ],
   "source": [
    "%%sql \n",
    "CREATE NAMESPACE IF NOT EXISTS glue.demo;"
   ]
  },
  {
   "cell_type": "code",
   "execution_count": 4,
   "id": "4fe10630-6704-44ac-9282-fba7fc133972",
   "metadata": {},
   "outputs": [
    {
     "data": {
      "text/html": [
       "<table>\n",
       "    <thead>\n",
       "        <tr>\n",
       "            <th>namespace</th>\n",
       "        </tr>\n",
       "    </thead>\n",
       "    <tbody>\n",
       "        <tr>\n",
       "            <td>demo</td>\n",
       "        </tr>\n",
       "        <tr>\n",
       "            <td>`test-glue-database`</td>\n",
       "        </tr>\n",
       "    </tbody>\n",
       "</table>"
      ],
      "text/plain": [
       "+----------------------+\n",
       "|            namespace |\n",
       "+----------------------+\n",
       "|                 demo |\n",
       "| `test-glue-database` |\n",
       "+----------------------+"
      ]
     },
     "execution_count": 4,
     "metadata": {},
     "output_type": "execute_result"
    }
   ],
   "source": [
    "%%sql\n",
    "SHOW NAMESPACES IN glue;"
   ]
  },
  {
   "cell_type": "code",
   "execution_count": 9,
   "id": "c258bf8a-f5a4-4e39-8a20-39be6f11b536",
   "metadata": {},
   "outputs": [
    {
     "data": {
      "text/html": [
       "<table>\n",
       "    <thead>\n",
       "        <tr>\n",
       "        </tr>\n",
       "    </thead>\n",
       "    <tbody>\n",
       "    </tbody>\n",
       "</table>"
      ],
      "text/plain": [
       "++\n",
       "||\n",
       "++\n",
       "++"
      ]
     },
     "execution_count": 9,
     "metadata": {},
     "output_type": "execute_result"
    }
   ],
   "source": [
    "%%sql\n",
    "CREATE TABLE\n",
    "  IF NOT EXISTS glue.demo.users (id BIGINT, name STRING, age INT) USING ICEBERG PARTITIONED BY (age);"
   ]
  },
  {
   "cell_type": "code",
   "execution_count": 4,
   "id": "a5119e23-ac0f-4c00-9233-065eac7f85be",
   "metadata": {},
   "outputs": [
    {
     "name": "stderr",
     "output_type": "stream",
     "text": [
      "25/09/14 16:22:38 WARN SparkSession: Using an existing Spark session; only runtime SQL configurations will take effect.\n"
     ]
    },
    {
     "data": {
      "text/html": [
       "<table>\n",
       "    <thead>\n",
       "        <tr>\n",
       "        </tr>\n",
       "    </thead>\n",
       "    <tbody>\n",
       "    </tbody>\n",
       "</table>"
      ],
      "text/plain": [
       "++\n",
       "||\n",
       "++\n",
       "++"
      ]
     },
     "execution_count": 4,
     "metadata": {},
     "output_type": "execute_result"
    }
   ],
   "source": [
    "%%sql\n",
    "INSERT INTO\n",
    "  glue.demo.users\n",
    "VALUES\n",
    "  (1, 'Alice', 30),\n",
    "  (2, 'Bob', 25),\n",
    "  (3, 'Charlie', 35);"
   ]
  },
  {
   "cell_type": "code",
   "execution_count": 5,
   "id": "d58779a0-9424-4951-bdc5-19126f2da347",
   "metadata": {},
   "outputs": [
    {
     "data": {
      "text/html": [
       "<table>\n",
       "    <thead>\n",
       "        <tr>\n",
       "            <th>id</th>\n",
       "            <th>name</th>\n",
       "            <th>age</th>\n",
       "        </tr>\n",
       "    </thead>\n",
       "    <tbody>\n",
       "        <tr>\n",
       "            <td>2</td>\n",
       "            <td>Bob</td>\n",
       "            <td>25</td>\n",
       "        </tr>\n",
       "        <tr>\n",
       "            <td>1</td>\n",
       "            <td>Alice</td>\n",
       "            <td>30</td>\n",
       "        </tr>\n",
       "        <tr>\n",
       "            <td>3</td>\n",
       "            <td>Charlie</td>\n",
       "            <td>35</td>\n",
       "        </tr>\n",
       "        <tr>\n",
       "            <td>2</td>\n",
       "            <td>Bob</td>\n",
       "            <td>25</td>\n",
       "        </tr>\n",
       "        <tr>\n",
       "            <td>1</td>\n",
       "            <td>Alice</td>\n",
       "            <td>30</td>\n",
       "        </tr>\n",
       "        <tr>\n",
       "            <td>3</td>\n",
       "            <td>Charlie</td>\n",
       "            <td>35</td>\n",
       "        </tr>\n",
       "        <tr>\n",
       "            <td>1</td>\n",
       "            <td>Alice</td>\n",
       "            <td>30</td>\n",
       "        </tr>\n",
       "        <tr>\n",
       "            <td>3</td>\n",
       "            <td>Charlie</td>\n",
       "            <td>35</td>\n",
       "        </tr>\n",
       "    </tbody>\n",
       "</table>"
      ],
      "text/plain": [
       "+----+---------+-----+\n",
       "| id |    name | age |\n",
       "+----+---------+-----+\n",
       "|  2 |     Bob |  25 |\n",
       "|  1 |   Alice |  30 |\n",
       "|  3 | Charlie |  35 |\n",
       "|  2 |     Bob |  25 |\n",
       "|  1 |   Alice |  30 |\n",
       "|  3 | Charlie |  35 |\n",
       "|  1 |   Alice |  30 |\n",
       "|  3 | Charlie |  35 |\n",
       "+----+---------+-----+"
      ]
     },
     "execution_count": 5,
     "metadata": {},
     "output_type": "execute_result"
    }
   ],
   "source": [
    "%%sql\n",
    "SELECT\n",
    "  *\n",
    "FROM\n",
    "  glue.demo.users;"
   ]
  },
  {
   "cell_type": "code",
   "execution_count": 15,
   "id": "2530d6cc-6fe6-4bc4-ba39-6a3b521cb7aa",
   "metadata": {},
   "outputs": [
    {
     "data": {
      "text/html": [
       "<table>\n",
       "    <thead>\n",
       "        <tr>\n",
       "        </tr>\n",
       "    </thead>\n",
       "    <tbody>\n",
       "    </tbody>\n",
       "</table>"
      ],
      "text/plain": [
       "++\n",
       "||\n",
       "++\n",
       "++"
      ]
     },
     "execution_count": 15,
     "metadata": {},
     "output_type": "execute_result"
    }
   ],
   "source": [
    "%%sql\n",
    "DELETE FROM glue.demo.users\n",
    "WHERE\n",
    "  id = 2;"
   ]
  },
  {
   "cell_type": "code",
   "execution_count": 16,
   "id": "040b5025-81e0-4786-a966-730262c27e1d",
   "metadata": {},
   "outputs": [
    {
     "data": {
      "text/html": [
       "<table>\n",
       "    <thead>\n",
       "        <tr>\n",
       "            <th>id</th>\n",
       "            <th>name</th>\n",
       "            <th>age</th>\n",
       "        </tr>\n",
       "    </thead>\n",
       "    <tbody>\n",
       "        <tr>\n",
       "            <td>1</td>\n",
       "            <td>Alice</td>\n",
       "            <td>30</td>\n",
       "        </tr>\n",
       "        <tr>\n",
       "            <td>3</td>\n",
       "            <td>Charlie</td>\n",
       "            <td>35</td>\n",
       "        </tr>\n",
       "    </tbody>\n",
       "</table>"
      ],
      "text/plain": [
       "+----+---------+-----+\n",
       "| id |    name | age |\n",
       "+----+---------+-----+\n",
       "|  1 |   Alice |  30 |\n",
       "|  3 | Charlie |  35 |\n",
       "+----+---------+-----+"
      ]
     },
     "execution_count": 16,
     "metadata": {},
     "output_type": "execute_result"
    }
   ],
   "source": [
    "%%sql\n",
    "SELECT\n",
    "  *\n",
    "FROM\n",
    "  glue.demo.users;"
   ]
  },
  {
   "cell_type": "code",
   "execution_count": null,
   "id": "1eeb715a-0dfd-45b9-a479-dd3276254939",
   "metadata": {},
   "outputs": [],
   "source": []
  },
  {
   "cell_type": "code",
   "execution_count": 23,
   "id": "b904ffed-448b-4fc2-a1f6-ef5988db86fb",
   "metadata": {},
   "outputs": [
    {
     "data": {
      "text/html": [
       "<table>\n",
       "    <thead>\n",
       "        <tr>\n",
       "        </tr>\n",
       "    </thead>\n",
       "    <tbody>\n",
       "    </tbody>\n",
       "</table>"
      ],
      "text/plain": [
       "++\n",
       "||\n",
       "++\n",
       "++"
      ]
     },
     "execution_count": 23,
     "metadata": {},
     "output_type": "execute_result"
    }
   ],
   "source": [
    "%%sql\n",
    "DROP TABLE IF EXISTS glue.demo.users5;"
   ]
  },
  {
   "cell_type": "code",
   "execution_count": 25,
   "id": "be1fd383-b0e4-4de2-9a17-7a9cf9230558",
   "metadata": {},
   "outputs": [
    {
     "data": {
      "text/html": [
       "<table>\n",
       "    <thead>\n",
       "        <tr>\n",
       "        </tr>\n",
       "    </thead>\n",
       "    <tbody>\n",
       "    </tbody>\n",
       "</table>"
      ],
      "text/plain": [
       "++\n",
       "||\n",
       "++\n",
       "++"
      ]
     },
     "execution_count": 25,
     "metadata": {},
     "output_type": "execute_result"
    }
   ],
   "source": [
    "%%sql\n",
    "CREATE TABLE\n",
    "  IF NOT EXISTS glue.demo.users5 (id4 BIGINT, name4 STRING, age4 INT) USING ICEBERG PARTITIONED BY (age4);"
   ]
  },
  {
   "cell_type": "code",
   "execution_count": 30,
   "id": "3964a7ab-31f3-4e6a-b8ca-d98b9566231f",
   "metadata": {},
   "outputs": [
    {
     "data": {
      "text/html": [
       "<table>\n",
       "    <thead>\n",
       "        <tr>\n",
       "        </tr>\n",
       "    </thead>\n",
       "    <tbody>\n",
       "    </tbody>\n",
       "</table>"
      ],
      "text/plain": [
       "++\n",
       "||\n",
       "++\n",
       "++"
      ]
     },
     "execution_count": 30,
     "metadata": {},
     "output_type": "execute_result"
    }
   ],
   "source": [
    "%%sql\n",
    "INSERT INTO\n",
    "  glue.demo.users4\n",
    "VALUES\n",
    "  (1, 'Alice', 23),\n",
    "  (2, 'Bob', 34),\n",
    "  (3, 'Charlie', 45);"
   ]
  },
  {
   "cell_type": "code",
   "execution_count": 7,
   "id": "a79d906d-b393-41a8-a1df-562963f336cb",
   "metadata": {
    "scrolled": true
   },
   "outputs": [
    {
     "data": {
      "text/html": [
       "<table>\n",
       "    <thead>\n",
       "        <tr>\n",
       "            <th>content</th>\n",
       "            <th>file_path</th>\n",
       "            <th>file_format</th>\n",
       "            <th>spec_id</th>\n",
       "            <th>partition</th>\n",
       "            <th>record_count</th>\n",
       "            <th>file_size_in_bytes</th>\n",
       "            <th>column_sizes</th>\n",
       "            <th>value_counts</th>\n",
       "            <th>null_value_counts</th>\n",
       "            <th>nan_value_counts</th>\n",
       "            <th>lower_bounds</th>\n",
       "            <th>upper_bounds</th>\n",
       "            <th>key_metadata</th>\n",
       "            <th>split_offsets</th>\n",
       "            <th>equality_ids</th>\n",
       "            <th>sort_order_id</th>\n",
       "            <th>referenced_data_file</th>\n",
       "            <th>content_offset</th>\n",
       "            <th>content_size_in_bytes</th>\n",
       "            <th>readable_metrics</th>\n",
       "        </tr>\n",
       "    </thead>\n",
       "    <tbody>\n",
       "        <tr>\n",
       "            <td>0</td>\n",
       "            <td>s3://9565atulverma-s3-bucket/demo.db/users4/data/age4=23/00000-11-c505828a-0943-4589-baf3-674c2dda0e67-0-00001.parquet</td>\n",
       "            <td>PARQUET</td>\n",
       "            <td>0</td>\n",
       "            <td>Row(age4=23)</td>\n",
       "            <td>1</td>\n",
       "            <td>931</td>\n",
       "            <td>{1: 43, 2: 44, 3: 39}</td>\n",
       "            <td>{1: 1, 2: 1, 3: 1}</td>\n",
       "            <td>{1: 0, 2: 0, 3: 0}</td>\n",
       "            <td>{}</td>\n",
       "            <td>{1: bytearray(b&#x27;\\x01\\x00\\x00\\x00\\x00\\x00\\x00\\x00&#x27;), 2: bytearray(b&#x27;Alice&#x27;), 3: bytearray(b&#x27;\\x17\\x00\\x00\\x00&#x27;)}</td>\n",
       "            <td>{1: bytearray(b&#x27;\\x01\\x00\\x00\\x00\\x00\\x00\\x00\\x00&#x27;), 2: bytearray(b&#x27;Alice&#x27;), 3: bytearray(b&#x27;\\x17\\x00\\x00\\x00&#x27;)}</td>\n",
       "            <td>None</td>\n",
       "            <td>[4]</td>\n",
       "            <td>None</td>\n",
       "            <td>0</td>\n",
       "            <td>None</td>\n",
       "            <td>None</td>\n",
       "            <td>None</td>\n",
       "            <td>Row(age4=Row(column_size=39, value_count=1, null_value_count=0, nan_value_count=None, lower_bound=23, upper_bound=23), id4=Row(column_size=43, value_count=1, null_value_count=0, nan_value_count=None, lower_bound=1, upper_bound=1), name4=Row(column_size=44, value_count=1, null_value_count=0, nan_value_count=None, lower_bound=&#x27;Alice&#x27;, upper_bound=&#x27;Alice&#x27;))</td>\n",
       "        </tr>\n",
       "        <tr>\n",
       "            <td>0</td>\n",
       "            <td>s3://9565atulverma-s3-bucket/demo.db/users4/data/age4=45/00000-11-c505828a-0943-4589-baf3-674c2dda0e67-0-00003.parquet</td>\n",
       "            <td>PARQUET</td>\n",
       "            <td>0</td>\n",
       "            <td>Row(age4=45)</td>\n",
       "            <td>1</td>\n",
       "            <td>945</td>\n",
       "            <td>{1: 43, 2: 46, 3: 39}</td>\n",
       "            <td>{1: 1, 2: 1, 3: 1}</td>\n",
       "            <td>{1: 0, 2: 0, 3: 0}</td>\n",
       "            <td>{}</td>\n",
       "            <td>{1: bytearray(b&#x27;\\x03\\x00\\x00\\x00\\x00\\x00\\x00\\x00&#x27;), 2: bytearray(b&#x27;Charlie&#x27;), 3: bytearray(b&#x27;-\\x00\\x00\\x00&#x27;)}</td>\n",
       "            <td>{1: bytearray(b&#x27;\\x03\\x00\\x00\\x00\\x00\\x00\\x00\\x00&#x27;), 2: bytearray(b&#x27;Charlie&#x27;), 3: bytearray(b&#x27;-\\x00\\x00\\x00&#x27;)}</td>\n",
       "            <td>None</td>\n",
       "            <td>[4]</td>\n",
       "            <td>None</td>\n",
       "            <td>0</td>\n",
       "            <td>None</td>\n",
       "            <td>None</td>\n",
       "            <td>None</td>\n",
       "            <td>Row(age4=Row(column_size=39, value_count=1, null_value_count=0, nan_value_count=None, lower_bound=45, upper_bound=45), id4=Row(column_size=43, value_count=1, null_value_count=0, nan_value_count=None, lower_bound=3, upper_bound=3), name4=Row(column_size=46, value_count=1, null_value_count=0, nan_value_count=None, lower_bound=&#x27;Charlie&#x27;, upper_bound=&#x27;Charlie&#x27;))</td>\n",
       "        </tr>\n",
       "        <tr>\n",
       "            <td>0</td>\n",
       "            <td>s3://9565atulverma-s3-bucket/demo.db/users4/data/age4=34/00000-11-c505828a-0943-4589-baf3-674c2dda0e67-0-00002.parquet</td>\n",
       "            <td>PARQUET</td>\n",
       "            <td>0</td>\n",
       "            <td>Row(age4=34)</td>\n",
       "            <td>1</td>\n",
       "            <td>917</td>\n",
       "            <td>{1: 43, 2: 42, 3: 39}</td>\n",
       "            <td>{1: 1, 2: 1, 3: 1}</td>\n",
       "            <td>{1: 0, 2: 0, 3: 0}</td>\n",
       "            <td>{}</td>\n",
       "            <td>{1: bytearray(b&#x27;\\x02\\x00\\x00\\x00\\x00\\x00\\x00\\x00&#x27;), 2: bytearray(b&#x27;Bob&#x27;), 3: bytearray(b&#x27;&quot;\\x00\\x00\\x00&#x27;)}</td>\n",
       "            <td>{1: bytearray(b&#x27;\\x02\\x00\\x00\\x00\\x00\\x00\\x00\\x00&#x27;), 2: bytearray(b&#x27;Bob&#x27;), 3: bytearray(b&#x27;&quot;\\x00\\x00\\x00&#x27;)}</td>\n",
       "            <td>None</td>\n",
       "            <td>[4]</td>\n",
       "            <td>None</td>\n",
       "            <td>0</td>\n",
       "            <td>None</td>\n",
       "            <td>None</td>\n",
       "            <td>None</td>\n",
       "            <td>Row(age4=Row(column_size=39, value_count=1, null_value_count=0, nan_value_count=None, lower_bound=34, upper_bound=34), id4=Row(column_size=43, value_count=1, null_value_count=0, nan_value_count=None, lower_bound=2, upper_bound=2), name4=Row(column_size=42, value_count=1, null_value_count=0, nan_value_count=None, lower_bound=&#x27;Bob&#x27;, upper_bound=&#x27;Bob&#x27;))</td>\n",
       "        </tr>\n",
       "        <tr>\n",
       "            <td>0</td>\n",
       "            <td>s3://9565atulverma-s3-bucket/demo.db/users4/data/age4=23/00000-3-19c2b588-4d84-413c-870b-a854313c7443-0-00001.parquet</td>\n",
       "            <td>PARQUET</td>\n",
       "            <td>0</td>\n",
       "            <td>Row(age4=23)</td>\n",
       "            <td>1</td>\n",
       "            <td>931</td>\n",
       "            <td>{1: 43, 2: 44, 3: 39}</td>\n",
       "            <td>{1: 1, 2: 1, 3: 1}</td>\n",
       "            <td>{1: 0, 2: 0, 3: 0}</td>\n",
       "            <td>{}</td>\n",
       "            <td>{1: bytearray(b&#x27;\\x01\\x00\\x00\\x00\\x00\\x00\\x00\\x00&#x27;), 2: bytearray(b&#x27;Alice&#x27;), 3: bytearray(b&#x27;\\x17\\x00\\x00\\x00&#x27;)}</td>\n",
       "            <td>{1: bytearray(b&#x27;\\x01\\x00\\x00\\x00\\x00\\x00\\x00\\x00&#x27;), 2: bytearray(b&#x27;Alice&#x27;), 3: bytearray(b&#x27;\\x17\\x00\\x00\\x00&#x27;)}</td>\n",
       "            <td>None</td>\n",
       "            <td>[4]</td>\n",
       "            <td>None</td>\n",
       "            <td>0</td>\n",
       "            <td>None</td>\n",
       "            <td>None</td>\n",
       "            <td>None</td>\n",
       "            <td>Row(age4=Row(column_size=39, value_count=1, null_value_count=0, nan_value_count=None, lower_bound=23, upper_bound=23), id4=Row(column_size=43, value_count=1, null_value_count=0, nan_value_count=None, lower_bound=1, upper_bound=1), name4=Row(column_size=44, value_count=1, null_value_count=0, nan_value_count=None, lower_bound=&#x27;Alice&#x27;, upper_bound=&#x27;Alice&#x27;))</td>\n",
       "        </tr>\n",
       "        <tr>\n",
       "            <td>0</td>\n",
       "            <td>s3://9565atulverma-s3-bucket/demo.db/users4/data/age4=45/00000-3-19c2b588-4d84-413c-870b-a854313c7443-0-00003.parquet</td>\n",
       "            <td>PARQUET</td>\n",
       "            <td>0</td>\n",
       "            <td>Row(age4=45)</td>\n",
       "            <td>1</td>\n",
       "            <td>945</td>\n",
       "            <td>{1: 43, 2: 46, 3: 39}</td>\n",
       "            <td>{1: 1, 2: 1, 3: 1}</td>\n",
       "            <td>{1: 0, 2: 0, 3: 0}</td>\n",
       "            <td>{}</td>\n",
       "            <td>{1: bytearray(b&#x27;\\x03\\x00\\x00\\x00\\x00\\x00\\x00\\x00&#x27;), 2: bytearray(b&#x27;Charlie&#x27;), 3: bytearray(b&#x27;-\\x00\\x00\\x00&#x27;)}</td>\n",
       "            <td>{1: bytearray(b&#x27;\\x03\\x00\\x00\\x00\\x00\\x00\\x00\\x00&#x27;), 2: bytearray(b&#x27;Charlie&#x27;), 3: bytearray(b&#x27;-\\x00\\x00\\x00&#x27;)}</td>\n",
       "            <td>None</td>\n",
       "            <td>[4]</td>\n",
       "            <td>None</td>\n",
       "            <td>0</td>\n",
       "            <td>None</td>\n",
       "            <td>None</td>\n",
       "            <td>None</td>\n",
       "            <td>Row(age4=Row(column_size=39, value_count=1, null_value_count=0, nan_value_count=None, lower_bound=45, upper_bound=45), id4=Row(column_size=43, value_count=1, null_value_count=0, nan_value_count=None, lower_bound=3, upper_bound=3), name4=Row(column_size=46, value_count=1, null_value_count=0, nan_value_count=None, lower_bound=&#x27;Charlie&#x27;, upper_bound=&#x27;Charlie&#x27;))</td>\n",
       "        </tr>\n",
       "        <tr>\n",
       "            <td>0</td>\n",
       "            <td>s3://9565atulverma-s3-bucket/demo.db/users4/data/age4=34/00000-3-19c2b588-4d84-413c-870b-a854313c7443-0-00002.parquet</td>\n",
       "            <td>PARQUET</td>\n",
       "            <td>0</td>\n",
       "            <td>Row(age4=34)</td>\n",
       "            <td>1</td>\n",
       "            <td>917</td>\n",
       "            <td>{1: 43, 2: 42, 3: 39}</td>\n",
       "            <td>{1: 1, 2: 1, 3: 1}</td>\n",
       "            <td>{1: 0, 2: 0, 3: 0}</td>\n",
       "            <td>{}</td>\n",
       "            <td>{1: bytearray(b&#x27;\\x02\\x00\\x00\\x00\\x00\\x00\\x00\\x00&#x27;), 2: bytearray(b&#x27;Bob&#x27;), 3: bytearray(b&#x27;&quot;\\x00\\x00\\x00&#x27;)}</td>\n",
       "            <td>{1: bytearray(b&#x27;\\x02\\x00\\x00\\x00\\x00\\x00\\x00\\x00&#x27;), 2: bytearray(b&#x27;Bob&#x27;), 3: bytearray(b&#x27;&quot;\\x00\\x00\\x00&#x27;)}</td>\n",
       "            <td>None</td>\n",
       "            <td>[4]</td>\n",
       "            <td>None</td>\n",
       "            <td>0</td>\n",
       "            <td>None</td>\n",
       "            <td>None</td>\n",
       "            <td>None</td>\n",
       "            <td>Row(age4=Row(column_size=39, value_count=1, null_value_count=0, nan_value_count=None, lower_bound=34, upper_bound=34), id4=Row(column_size=43, value_count=1, null_value_count=0, nan_value_count=None, lower_bound=2, upper_bound=2), name4=Row(column_size=42, value_count=1, null_value_count=0, nan_value_count=None, lower_bound=&#x27;Bob&#x27;, upper_bound=&#x27;Bob&#x27;))</td>\n",
       "        </tr>\n",
       "        <tr>\n",
       "            <td>0</td>\n",
       "            <td>s3://9565atulverma-s3-bucket/demo.db/users4/data/age4=23/00000-21-9e66c983-da71-4f8c-bef2-a88bf6e830b9-0-00001.parquet</td>\n",
       "            <td>PARQUET</td>\n",
       "            <td>0</td>\n",
       "            <td>Row(age4=23)</td>\n",
       "            <td>1</td>\n",
       "            <td>931</td>\n",
       "            <td>{1: 43, 2: 44, 3: 39}</td>\n",
       "            <td>{1: 1, 2: 1, 3: 1}</td>\n",
       "            <td>{1: 0, 2: 0, 3: 0}</td>\n",
       "            <td>{}</td>\n",
       "            <td>{1: bytearray(b&#x27;\\x01\\x00\\x00\\x00\\x00\\x00\\x00\\x00&#x27;), 2: bytearray(b&#x27;Alice&#x27;), 3: bytearray(b&#x27;\\x17\\x00\\x00\\x00&#x27;)}</td>\n",
       "            <td>{1: bytearray(b&#x27;\\x01\\x00\\x00\\x00\\x00\\x00\\x00\\x00&#x27;), 2: bytearray(b&#x27;Alice&#x27;), 3: bytearray(b&#x27;\\x17\\x00\\x00\\x00&#x27;)}</td>\n",
       "            <td>None</td>\n",
       "            <td>[4]</td>\n",
       "            <td>None</td>\n",
       "            <td>0</td>\n",
       "            <td>None</td>\n",
       "            <td>None</td>\n",
       "            <td>None</td>\n",
       "            <td>Row(age4=Row(column_size=39, value_count=1, null_value_count=0, nan_value_count=None, lower_bound=23, upper_bound=23), id4=Row(column_size=43, value_count=1, null_value_count=0, nan_value_count=None, lower_bound=1, upper_bound=1), name4=Row(column_size=44, value_count=1, null_value_count=0, nan_value_count=None, lower_bound=&#x27;Alice&#x27;, upper_bound=&#x27;Alice&#x27;))</td>\n",
       "        </tr>\n",
       "        <tr>\n",
       "            <td>0</td>\n",
       "            <td>s3://9565atulverma-s3-bucket/demo.db/users4/data/age4=45/00000-21-9e66c983-da71-4f8c-bef2-a88bf6e830b9-0-00003.parquet</td>\n",
       "            <td>PARQUET</td>\n",
       "            <td>0</td>\n",
       "            <td>Row(age4=45)</td>\n",
       "            <td>1</td>\n",
       "            <td>945</td>\n",
       "            <td>{1: 43, 2: 46, 3: 39}</td>\n",
       "            <td>{1: 1, 2: 1, 3: 1}</td>\n",
       "            <td>{1: 0, 2: 0, 3: 0}</td>\n",
       "            <td>{}</td>\n",
       "            <td>{1: bytearray(b&#x27;\\x03\\x00\\x00\\x00\\x00\\x00\\x00\\x00&#x27;), 2: bytearray(b&#x27;Charlie&#x27;), 3: bytearray(b&#x27;-\\x00\\x00\\x00&#x27;)}</td>\n",
       "            <td>{1: bytearray(b&#x27;\\x03\\x00\\x00\\x00\\x00\\x00\\x00\\x00&#x27;), 2: bytearray(b&#x27;Charlie&#x27;), 3: bytearray(b&#x27;-\\x00\\x00\\x00&#x27;)}</td>\n",
       "            <td>None</td>\n",
       "            <td>[4]</td>\n",
       "            <td>None</td>\n",
       "            <td>0</td>\n",
       "            <td>None</td>\n",
       "            <td>None</td>\n",
       "            <td>None</td>\n",
       "            <td>Row(age4=Row(column_size=39, value_count=1, null_value_count=0, nan_value_count=None, lower_bound=45, upper_bound=45), id4=Row(column_size=43, value_count=1, null_value_count=0, nan_value_count=None, lower_bound=3, upper_bound=3), name4=Row(column_size=46, value_count=1, null_value_count=0, nan_value_count=None, lower_bound=&#x27;Charlie&#x27;, upper_bound=&#x27;Charlie&#x27;))</td>\n",
       "        </tr>\n",
       "        <tr>\n",
       "            <td>0</td>\n",
       "            <td>s3://9565atulverma-s3-bucket/demo.db/users4/data/age4=34/00000-21-9e66c983-da71-4f8c-bef2-a88bf6e830b9-0-00002.parquet</td>\n",
       "            <td>PARQUET</td>\n",
       "            <td>0</td>\n",
       "            <td>Row(age4=34)</td>\n",
       "            <td>1</td>\n",
       "            <td>917</td>\n",
       "            <td>{1: 43, 2: 42, 3: 39}</td>\n",
       "            <td>{1: 1, 2: 1, 3: 1}</td>\n",
       "            <td>{1: 0, 2: 0, 3: 0}</td>\n",
       "            <td>{}</td>\n",
       "            <td>{1: bytearray(b&#x27;\\x02\\x00\\x00\\x00\\x00\\x00\\x00\\x00&#x27;), 2: bytearray(b&#x27;Bob&#x27;), 3: bytearray(b&#x27;&quot;\\x00\\x00\\x00&#x27;)}</td>\n",
       "            <td>{1: bytearray(b&#x27;\\x02\\x00\\x00\\x00\\x00\\x00\\x00\\x00&#x27;), 2: bytearray(b&#x27;Bob&#x27;), 3: bytearray(b&#x27;&quot;\\x00\\x00\\x00&#x27;)}</td>\n",
       "            <td>None</td>\n",
       "            <td>[4]</td>\n",
       "            <td>None</td>\n",
       "            <td>0</td>\n",
       "            <td>None</td>\n",
       "            <td>None</td>\n",
       "            <td>None</td>\n",
       "            <td>Row(age4=Row(column_size=39, value_count=1, null_value_count=0, nan_value_count=None, lower_bound=34, upper_bound=34), id4=Row(column_size=43, value_count=1, null_value_count=0, nan_value_count=None, lower_bound=2, upper_bound=2), name4=Row(column_size=42, value_count=1, null_value_count=0, nan_value_count=None, lower_bound=&#x27;Bob&#x27;, upper_bound=&#x27;Bob&#x27;))</td>\n",
       "        </tr>\n",
       "    </tbody>\n",
       "</table>"
      ],
      "text/plain": [
       "+---------+------------------------------------------------------------------------------------------------------------------------+-------------+---------+--------------+--------------+--------------------+-----------------------+--------------------+--------------------+------------------+----------------------------------------------------------------------------------------------------------------+----------------------------------------------------------------------------------------------------------------+--------------+---------------+--------------+---------------+----------------------+----------------+-----------------------+--------------------------------------------------------------------------------------------------------------------------------------------------------------------------------------------------------------------------------------------------------------------------------------------------------------------------------------------------------------------------+\n",
       "| content |                                                                                                              file_path | file_format | spec_id |    partition | record_count | file_size_in_bytes |          column_sizes |       value_counts |  null_value_counts | nan_value_counts |                                                                                                   lower_bounds |                                                                                                   upper_bounds | key_metadata | split_offsets | equality_ids | sort_order_id | referenced_data_file | content_offset | content_size_in_bytes |                                                                                                                                                                                                                                                                                                                                                         readable_metrics |\n",
       "+---------+------------------------------------------------------------------------------------------------------------------------+-------------+---------+--------------+--------------+--------------------+-----------------------+--------------------+--------------------+------------------+----------------------------------------------------------------------------------------------------------------+----------------------------------------------------------------------------------------------------------------+--------------+---------------+--------------+---------------+----------------------+----------------+-----------------------+--------------------------------------------------------------------------------------------------------------------------------------------------------------------------------------------------------------------------------------------------------------------------------------------------------------------------------------------------------------------------+\n",
       "|       0 | s3://9565atulverma-s3-bucket/demo.db/users4/data/age4=23/00000-11-c505828a-0943-4589-baf3-674c2dda0e67-0-00001.parquet |     PARQUET |       0 | Row(age4=23) |            1 |                931 | {1: 43, 2: 44, 3: 39} | {1: 1, 2: 1, 3: 1} | {1: 0, 2: 0, 3: 0} |               {} | {1: bytearray(b'\\x01\\x00\\x00\\x00\\x00\\x00\\x00\\x00'), 2: bytearray(b'Alice'), 3: bytearray(b'\\x17\\x00\\x00\\x00')} | {1: bytearray(b'\\x01\\x00\\x00\\x00\\x00\\x00\\x00\\x00'), 2: bytearray(b'Alice'), 3: bytearray(b'\\x17\\x00\\x00\\x00')} |         None |           [4] |         None |             0 |                 None |           None |                  None |     Row(age4=Row(column_size=39, value_count=1, null_value_count=0, nan_value_count=None, lower_bound=23, upper_bound=23), id4=Row(column_size=43, value_count=1, null_value_count=0, nan_value_count=None, lower_bound=1, upper_bound=1), name4=Row(column_size=44, value_count=1, null_value_count=0, nan_value_count=None, lower_bound='Alice', upper_bound='Alice')) |\n",
       "|       0 | s3://9565atulverma-s3-bucket/demo.db/users4/data/age4=45/00000-11-c505828a-0943-4589-baf3-674c2dda0e67-0-00003.parquet |     PARQUET |       0 | Row(age4=45) |            1 |                945 | {1: 43, 2: 46, 3: 39} | {1: 1, 2: 1, 3: 1} | {1: 0, 2: 0, 3: 0} |               {} |  {1: bytearray(b'\\x03\\x00\\x00\\x00\\x00\\x00\\x00\\x00'), 2: bytearray(b'Charlie'), 3: bytearray(b'-\\x00\\x00\\x00')} |  {1: bytearray(b'\\x03\\x00\\x00\\x00\\x00\\x00\\x00\\x00'), 2: bytearray(b'Charlie'), 3: bytearray(b'-\\x00\\x00\\x00')} |         None |           [4] |         None |             0 |                 None |           None |                  None | Row(age4=Row(column_size=39, value_count=1, null_value_count=0, nan_value_count=None, lower_bound=45, upper_bound=45), id4=Row(column_size=43, value_count=1, null_value_count=0, nan_value_count=None, lower_bound=3, upper_bound=3), name4=Row(column_size=46, value_count=1, null_value_count=0, nan_value_count=None, lower_bound='Charlie', upper_bound='Charlie')) |\n",
       "|       0 | s3://9565atulverma-s3-bucket/demo.db/users4/data/age4=34/00000-11-c505828a-0943-4589-baf3-674c2dda0e67-0-00002.parquet |     PARQUET |       0 | Row(age4=34) |            1 |                917 | {1: 43, 2: 42, 3: 39} | {1: 1, 2: 1, 3: 1} | {1: 0, 2: 0, 3: 0} |               {} |      {1: bytearray(b'\\x02\\x00\\x00\\x00\\x00\\x00\\x00\\x00'), 2: bytearray(b'Bob'), 3: bytearray(b'\"\\x00\\x00\\x00')} |      {1: bytearray(b'\\x02\\x00\\x00\\x00\\x00\\x00\\x00\\x00'), 2: bytearray(b'Bob'), 3: bytearray(b'\"\\x00\\x00\\x00')} |         None |           [4] |         None |             0 |                 None |           None |                  None |         Row(age4=Row(column_size=39, value_count=1, null_value_count=0, nan_value_count=None, lower_bound=34, upper_bound=34), id4=Row(column_size=43, value_count=1, null_value_count=0, nan_value_count=None, lower_bound=2, upper_bound=2), name4=Row(column_size=42, value_count=1, null_value_count=0, nan_value_count=None, lower_bound='Bob', upper_bound='Bob')) |\n",
       "|       0 |  s3://9565atulverma-s3-bucket/demo.db/users4/data/age4=23/00000-3-19c2b588-4d84-413c-870b-a854313c7443-0-00001.parquet |     PARQUET |       0 | Row(age4=23) |            1 |                931 | {1: 43, 2: 44, 3: 39} | {1: 1, 2: 1, 3: 1} | {1: 0, 2: 0, 3: 0} |               {} | {1: bytearray(b'\\x01\\x00\\x00\\x00\\x00\\x00\\x00\\x00'), 2: bytearray(b'Alice'), 3: bytearray(b'\\x17\\x00\\x00\\x00')} | {1: bytearray(b'\\x01\\x00\\x00\\x00\\x00\\x00\\x00\\x00'), 2: bytearray(b'Alice'), 3: bytearray(b'\\x17\\x00\\x00\\x00')} |         None |           [4] |         None |             0 |                 None |           None |                  None |     Row(age4=Row(column_size=39, value_count=1, null_value_count=0, nan_value_count=None, lower_bound=23, upper_bound=23), id4=Row(column_size=43, value_count=1, null_value_count=0, nan_value_count=None, lower_bound=1, upper_bound=1), name4=Row(column_size=44, value_count=1, null_value_count=0, nan_value_count=None, lower_bound='Alice', upper_bound='Alice')) |\n",
       "|       0 |  s3://9565atulverma-s3-bucket/demo.db/users4/data/age4=45/00000-3-19c2b588-4d84-413c-870b-a854313c7443-0-00003.parquet |     PARQUET |       0 | Row(age4=45) |            1 |                945 | {1: 43, 2: 46, 3: 39} | {1: 1, 2: 1, 3: 1} | {1: 0, 2: 0, 3: 0} |               {} |  {1: bytearray(b'\\x03\\x00\\x00\\x00\\x00\\x00\\x00\\x00'), 2: bytearray(b'Charlie'), 3: bytearray(b'-\\x00\\x00\\x00')} |  {1: bytearray(b'\\x03\\x00\\x00\\x00\\x00\\x00\\x00\\x00'), 2: bytearray(b'Charlie'), 3: bytearray(b'-\\x00\\x00\\x00')} |         None |           [4] |         None |             0 |                 None |           None |                  None | Row(age4=Row(column_size=39, value_count=1, null_value_count=0, nan_value_count=None, lower_bound=45, upper_bound=45), id4=Row(column_size=43, value_count=1, null_value_count=0, nan_value_count=None, lower_bound=3, upper_bound=3), name4=Row(column_size=46, value_count=1, null_value_count=0, nan_value_count=None, lower_bound='Charlie', upper_bound='Charlie')) |\n",
       "|       0 |  s3://9565atulverma-s3-bucket/demo.db/users4/data/age4=34/00000-3-19c2b588-4d84-413c-870b-a854313c7443-0-00002.parquet |     PARQUET |       0 | Row(age4=34) |            1 |                917 | {1: 43, 2: 42, 3: 39} | {1: 1, 2: 1, 3: 1} | {1: 0, 2: 0, 3: 0} |               {} |      {1: bytearray(b'\\x02\\x00\\x00\\x00\\x00\\x00\\x00\\x00'), 2: bytearray(b'Bob'), 3: bytearray(b'\"\\x00\\x00\\x00')} |      {1: bytearray(b'\\x02\\x00\\x00\\x00\\x00\\x00\\x00\\x00'), 2: bytearray(b'Bob'), 3: bytearray(b'\"\\x00\\x00\\x00')} |         None |           [4] |         None |             0 |                 None |           None |                  None |         Row(age4=Row(column_size=39, value_count=1, null_value_count=0, nan_value_count=None, lower_bound=34, upper_bound=34), id4=Row(column_size=43, value_count=1, null_value_count=0, nan_value_count=None, lower_bound=2, upper_bound=2), name4=Row(column_size=42, value_count=1, null_value_count=0, nan_value_count=None, lower_bound='Bob', upper_bound='Bob')) |\n",
       "|       0 | s3://9565atulverma-s3-bucket/demo.db/users4/data/age4=23/00000-21-9e66c983-da71-4f8c-bef2-a88bf6e830b9-0-00001.parquet |     PARQUET |       0 | Row(age4=23) |            1 |                931 | {1: 43, 2: 44, 3: 39} | {1: 1, 2: 1, 3: 1} | {1: 0, 2: 0, 3: 0} |               {} | {1: bytearray(b'\\x01\\x00\\x00\\x00\\x00\\x00\\x00\\x00'), 2: bytearray(b'Alice'), 3: bytearray(b'\\x17\\x00\\x00\\x00')} | {1: bytearray(b'\\x01\\x00\\x00\\x00\\x00\\x00\\x00\\x00'), 2: bytearray(b'Alice'), 3: bytearray(b'\\x17\\x00\\x00\\x00')} |         None |           [4] |         None |             0 |                 None |           None |                  None |     Row(age4=Row(column_size=39, value_count=1, null_value_count=0, nan_value_count=None, lower_bound=23, upper_bound=23), id4=Row(column_size=43, value_count=1, null_value_count=0, nan_value_count=None, lower_bound=1, upper_bound=1), name4=Row(column_size=44, value_count=1, null_value_count=0, nan_value_count=None, lower_bound='Alice', upper_bound='Alice')) |\n",
       "|       0 | s3://9565atulverma-s3-bucket/demo.db/users4/data/age4=45/00000-21-9e66c983-da71-4f8c-bef2-a88bf6e830b9-0-00003.parquet |     PARQUET |       0 | Row(age4=45) |            1 |                945 | {1: 43, 2: 46, 3: 39} | {1: 1, 2: 1, 3: 1} | {1: 0, 2: 0, 3: 0} |               {} |  {1: bytearray(b'\\x03\\x00\\x00\\x00\\x00\\x00\\x00\\x00'), 2: bytearray(b'Charlie'), 3: bytearray(b'-\\x00\\x00\\x00')} |  {1: bytearray(b'\\x03\\x00\\x00\\x00\\x00\\x00\\x00\\x00'), 2: bytearray(b'Charlie'), 3: bytearray(b'-\\x00\\x00\\x00')} |         None |           [4] |         None |             0 |                 None |           None |                  None | Row(age4=Row(column_size=39, value_count=1, null_value_count=0, nan_value_count=None, lower_bound=45, upper_bound=45), id4=Row(column_size=43, value_count=1, null_value_count=0, nan_value_count=None, lower_bound=3, upper_bound=3), name4=Row(column_size=46, value_count=1, null_value_count=0, nan_value_count=None, lower_bound='Charlie', upper_bound='Charlie')) |\n",
       "|       0 | s3://9565atulverma-s3-bucket/demo.db/users4/data/age4=34/00000-21-9e66c983-da71-4f8c-bef2-a88bf6e830b9-0-00002.parquet |     PARQUET |       0 | Row(age4=34) |            1 |                917 | {1: 43, 2: 42, 3: 39} | {1: 1, 2: 1, 3: 1} | {1: 0, 2: 0, 3: 0} |               {} |      {1: bytearray(b'\\x02\\x00\\x00\\x00\\x00\\x00\\x00\\x00'), 2: bytearray(b'Bob'), 3: bytearray(b'\"\\x00\\x00\\x00')} |      {1: bytearray(b'\\x02\\x00\\x00\\x00\\x00\\x00\\x00\\x00'), 2: bytearray(b'Bob'), 3: bytearray(b'\"\\x00\\x00\\x00')} |         None |           [4] |         None |             0 |                 None |           None |                  None |         Row(age4=Row(column_size=39, value_count=1, null_value_count=0, nan_value_count=None, lower_bound=34, upper_bound=34), id4=Row(column_size=43, value_count=1, null_value_count=0, nan_value_count=None, lower_bound=2, upper_bound=2), name4=Row(column_size=42, value_count=1, null_value_count=0, nan_value_count=None, lower_bound='Bob', upper_bound='Bob')) |\n",
       "+---------+------------------------------------------------------------------------------------------------------------------------+-------------+---------+--------------+--------------+--------------------+-----------------------+--------------------+--------------------+------------------+----------------------------------------------------------------------------------------------------------------+----------------------------------------------------------------------------------------------------------------+--------------+---------------+--------------+---------------+----------------------+----------------+-----------------------+--------------------------------------------------------------------------------------------------------------------------------------------------------------------------------------------------------------------------------------------------------------------------------------------------------------------------------------------------------------------------+"
      ]
     },
     "execution_count": 7,
     "metadata": {},
     "output_type": "execute_result"
    }
   ],
   "source": [
    "%%sql\n",
    "SELECT\n",
    "  *\n",
    "FROM\n",
    "  glue.demo.users4.files;"
   ]
  },
  {
   "cell_type": "code",
   "execution_count": 23,
   "id": "fadb27d2-663e-4373-aeca-d35dbb64b017",
   "metadata": {},
   "outputs": [],
   "source": [
    "### Time Travel"
   ]
  },
  {
   "cell_type": "code",
   "execution_count": 17,
   "id": "41e0fe92-a313-47a7-929c-abdd0a67a7c6",
   "metadata": {},
   "outputs": [
    {
     "data": {
      "text/html": [
       "<table>\n",
       "    <thead>\n",
       "        <tr>\n",
       "            <th>id4</th>\n",
       "            <th>name4</th>\n",
       "            <th>age4</th>\n",
       "        </tr>\n",
       "    </thead>\n",
       "    <tbody>\n",
       "        <tr>\n",
       "            <td>1</td>\n",
       "            <td>Alice</td>\n",
       "            <td>23</td>\n",
       "        </tr>\n",
       "        <tr>\n",
       "            <td>3</td>\n",
       "            <td>Charlie</td>\n",
       "            <td>45</td>\n",
       "        </tr>\n",
       "        <tr>\n",
       "            <td>2</td>\n",
       "            <td>Bob</td>\n",
       "            <td>34</td>\n",
       "        </tr>\n",
       "    </tbody>\n",
       "</table>"
      ],
      "text/plain": [
       "+-----+---------+------+\n",
       "| id4 |   name4 | age4 |\n",
       "+-----+---------+------+\n",
       "|   1 |   Alice |   23 |\n",
       "|   3 | Charlie |   45 |\n",
       "|   2 |     Bob |   34 |\n",
       "+-----+---------+------+"
      ]
     },
     "execution_count": 17,
     "metadata": {},
     "output_type": "execute_result"
    }
   ],
   "source": [
    "%%sql\n",
    "SELECT\n",
    "  *\n",
    "FROM\n",
    "  glue.demo.users4 TIMESTAMP AS OF '2025-09-13 23:21:00';"
   ]
  },
  {
   "cell_type": "code",
   "execution_count": 18,
   "id": "db9ea9c9-9b68-469b-9e3d-26214132d253",
   "metadata": {},
   "outputs": [
    {
     "data": {
      "text/html": [
       "<table>\n",
       "    <thead>\n",
       "        <tr>\n",
       "            <th>id4</th>\n",
       "            <th>name4</th>\n",
       "            <th>age4</th>\n",
       "        </tr>\n",
       "    </thead>\n",
       "    <tbody>\n",
       "        <tr>\n",
       "            <td>1</td>\n",
       "            <td>Alice</td>\n",
       "            <td>23</td>\n",
       "        </tr>\n",
       "        <tr>\n",
       "            <td>3</td>\n",
       "            <td>Charlie</td>\n",
       "            <td>45</td>\n",
       "        </tr>\n",
       "        <tr>\n",
       "            <td>2</td>\n",
       "            <td>Bob</td>\n",
       "            <td>34</td>\n",
       "        </tr>\n",
       "        <tr>\n",
       "            <td>1</td>\n",
       "            <td>Alice</td>\n",
       "            <td>23</td>\n",
       "        </tr>\n",
       "        <tr>\n",
       "            <td>3</td>\n",
       "            <td>Charlie</td>\n",
       "            <td>45</td>\n",
       "        </tr>\n",
       "        <tr>\n",
       "            <td>2</td>\n",
       "            <td>Bob</td>\n",
       "            <td>34</td>\n",
       "        </tr>\n",
       "        <tr>\n",
       "            <td>1</td>\n",
       "            <td>Alice</td>\n",
       "            <td>23</td>\n",
       "        </tr>\n",
       "        <tr>\n",
       "            <td>3</td>\n",
       "            <td>Charlie</td>\n",
       "            <td>45</td>\n",
       "        </tr>\n",
       "        <tr>\n",
       "            <td>2</td>\n",
       "            <td>Bob</td>\n",
       "            <td>34</td>\n",
       "        </tr>\n",
       "    </tbody>\n",
       "</table>"
      ],
      "text/plain": [
       "+-----+---------+------+\n",
       "| id4 |   name4 | age4 |\n",
       "+-----+---------+------+\n",
       "|   1 |   Alice |   23 |\n",
       "|   3 | Charlie |   45 |\n",
       "|   2 |     Bob |   34 |\n",
       "|   1 |   Alice |   23 |\n",
       "|   3 | Charlie |   45 |\n",
       "|   2 |     Bob |   34 |\n",
       "|   1 |   Alice |   23 |\n",
       "|   3 | Charlie |   45 |\n",
       "|   2 |     Bob |   34 |\n",
       "+-----+---------+------+"
      ]
     },
     "execution_count": 18,
     "metadata": {},
     "output_type": "execute_result"
    }
   ],
   "source": [
    "%%sql\n",
    "SELECT\n",
    "  *\n",
    "FROM\n",
    "  glue.demo.users4 TIMESTAMP AS OF '2025-09-14 19:54:00';"
   ]
  },
  {
   "cell_type": "code",
   "execution_count": 32,
   "id": "d46dae6e-c228-4066-8904-1b41694a6b04",
   "metadata": {},
   "outputs": [
    {
     "data": {
      "text/html": [
       "<table>\n",
       "    <thead>\n",
       "        <tr>\n",
       "            <th>id4</th>\n",
       "            <th>name4</th>\n",
       "        </tr>\n",
       "    </thead>\n",
       "    <tbody>\n",
       "        <tr>\n",
       "            <td>1</td>\n",
       "            <td>Alice</td>\n",
       "        </tr>\n",
       "        <tr>\n",
       "            <td>3</td>\n",
       "            <td>Charlie</td>\n",
       "        </tr>\n",
       "        <tr>\n",
       "            <td>2</td>\n",
       "            <td>Bob</td>\n",
       "        </tr>\n",
       "        <tr>\n",
       "            <td>1</td>\n",
       "            <td>23</td>\n",
       "        </tr>\n",
       "        <tr>\n",
       "            <td>2</td>\n",
       "            <td>34</td>\n",
       "        </tr>\n",
       "        <tr>\n",
       "            <td>3</td>\n",
       "            <td>45</td>\n",
       "        </tr>\n",
       "        <tr>\n",
       "            <td>1</td>\n",
       "            <td>Alice</td>\n",
       "        </tr>\n",
       "        <tr>\n",
       "            <td>3</td>\n",
       "            <td>Charlie</td>\n",
       "        </tr>\n",
       "        <tr>\n",
       "            <td>2</td>\n",
       "            <td>Bob</td>\n",
       "        </tr>\n",
       "        <tr>\n",
       "            <td>1</td>\n",
       "            <td>Alice</td>\n",
       "        </tr>\n",
       "        <tr>\n",
       "            <td>3</td>\n",
       "            <td>Charlie</td>\n",
       "        </tr>\n",
       "        <tr>\n",
       "            <td>2</td>\n",
       "            <td>Bob</td>\n",
       "        </tr>\n",
       "        <tr>\n",
       "            <td>1</td>\n",
       "            <td>Alice</td>\n",
       "        </tr>\n",
       "        <tr>\n",
       "            <td>3</td>\n",
       "            <td>Charlie</td>\n",
       "        </tr>\n",
       "        <tr>\n",
       "            <td>2</td>\n",
       "            <td>Bob</td>\n",
       "        </tr>\n",
       "    </tbody>\n",
       "</table>"
      ],
      "text/plain": [
       "+-----+---------+\n",
       "| id4 |   name4 |\n",
       "+-----+---------+\n",
       "|   1 |   Alice |\n",
       "|   3 | Charlie |\n",
       "|   2 |     Bob |\n",
       "|   1 |      23 |\n",
       "|   2 |      34 |\n",
       "|   3 |      45 |\n",
       "|   1 |   Alice |\n",
       "|   3 | Charlie |\n",
       "|   2 |     Bob |\n",
       "|   1 |   Alice |\n",
       "|   3 | Charlie |\n",
       "|   2 |     Bob |\n",
       "|   1 |   Alice |\n",
       "|   3 | Charlie |\n",
       "|   2 |     Bob |\n",
       "+-----+---------+"
      ]
     },
     "execution_count": 32,
     "metadata": {},
     "output_type": "execute_result"
    }
   ],
   "source": [
    "%%sql\n",
    "SELECT\n",
    "  id4,\tname4\n",
    "FROM\n",
    "  glue.demo.users4;"
   ]
  },
  {
   "cell_type": "code",
   "execution_count": 35,
   "id": "43a8cd85-2ae8-4f71-b911-f522e8b745dc",
   "metadata": {},
   "outputs": [
    {
     "data": {
      "text/html": [
       "<table>\n",
       "    <thead>\n",
       "        <tr>\n",
       "            <th>id4</th>\n",
       "            <th>name4</th>\n",
       "            <th>age4</th>\n",
       "        </tr>\n",
       "    </thead>\n",
       "    <tbody>\n",
       "        <tr>\n",
       "            <td>1</td>\n",
       "            <td>Alice</td>\n",
       "            <td>23</td>\n",
       "        </tr>\n",
       "        <tr>\n",
       "            <td>3</td>\n",
       "            <td>Charlie</td>\n",
       "            <td>45</td>\n",
       "        </tr>\n",
       "        <tr>\n",
       "            <td>2</td>\n",
       "            <td>Bob</td>\n",
       "            <td>34</td>\n",
       "        </tr>\n",
       "        <tr>\n",
       "            <td>1</td>\n",
       "            <td>Alice</td>\n",
       "            <td>23</td>\n",
       "        </tr>\n",
       "        <tr>\n",
       "            <td>3</td>\n",
       "            <td>Charlie</td>\n",
       "            <td>45</td>\n",
       "        </tr>\n",
       "        <tr>\n",
       "            <td>2</td>\n",
       "            <td>Bob</td>\n",
       "            <td>34</td>\n",
       "        </tr>\n",
       "        <tr>\n",
       "            <td>1</td>\n",
       "            <td>Alice</td>\n",
       "            <td>23</td>\n",
       "        </tr>\n",
       "        <tr>\n",
       "            <td>3</td>\n",
       "            <td>Charlie</td>\n",
       "            <td>45</td>\n",
       "        </tr>\n",
       "        <tr>\n",
       "            <td>2</td>\n",
       "            <td>Bob</td>\n",
       "            <td>34</td>\n",
       "        </tr>\n",
       "        <tr>\n",
       "            <td>1</td>\n",
       "            <td>23</td>\n",
       "            <td>None</td>\n",
       "        </tr>\n",
       "        <tr>\n",
       "            <td>2</td>\n",
       "            <td>34</td>\n",
       "            <td>None</td>\n",
       "        </tr>\n",
       "        <tr>\n",
       "            <td>3</td>\n",
       "            <td>45</td>\n",
       "            <td>None</td>\n",
       "        </tr>\n",
       "        <tr>\n",
       "            <td>1</td>\n",
       "            <td>a</td>\n",
       "            <td>23</td>\n",
       "        </tr>\n",
       "        <tr>\n",
       "            <td>3</td>\n",
       "            <td>a</td>\n",
       "            <td>45</td>\n",
       "        </tr>\n",
       "        <tr>\n",
       "            <td>2</td>\n",
       "            <td>a</td>\n",
       "            <td>34</td>\n",
       "        </tr>\n",
       "        <tr>\n",
       "            <td>1</td>\n",
       "            <td>Alice</td>\n",
       "            <td>23</td>\n",
       "        </tr>\n",
       "        <tr>\n",
       "            <td>3</td>\n",
       "            <td>Charlie</td>\n",
       "            <td>45</td>\n",
       "        </tr>\n",
       "        <tr>\n",
       "            <td>2</td>\n",
       "            <td>Bob</td>\n",
       "            <td>34</td>\n",
       "        </tr>\n",
       "    </tbody>\n",
       "</table>"
      ],
      "text/plain": [
       "+-----+---------+------+\n",
       "| id4 |   name4 | age4 |\n",
       "+-----+---------+------+\n",
       "|   1 |   Alice |   23 |\n",
       "|   3 | Charlie |   45 |\n",
       "|   2 |     Bob |   34 |\n",
       "|   1 |   Alice |   23 |\n",
       "|   3 | Charlie |   45 |\n",
       "|   2 |     Bob |   34 |\n",
       "|   1 |   Alice |   23 |\n",
       "|   3 | Charlie |   45 |\n",
       "|   2 |     Bob |   34 |\n",
       "|   1 |      23 | None |\n",
       "|   2 |      34 | None |\n",
       "|   3 |      45 | None |\n",
       "|   1 |       a |   23 |\n",
       "|   3 |       a |   45 |\n",
       "|   2 |       a |   34 |\n",
       "|   1 |   Alice |   23 |\n",
       "|   3 | Charlie |   45 |\n",
       "|   2 |     Bob |   34 |\n",
       "+-----+---------+------+"
      ]
     },
     "execution_count": 35,
     "metadata": {},
     "output_type": "execute_result"
    }
   ],
   "source": [
    "%%sql\n",
    "select * from glue.demo.users4;"
   ]
  },
  {
   "cell_type": "code",
   "execution_count": 12,
   "id": "e75c8fe3-65ca-49a2-8be5-6ae5d9e3f172",
   "metadata": {},
   "outputs": [
    {
     "data": {
      "text/html": [
       "<table>\n",
       "    <thead>\n",
       "        <tr>\n",
       "        </tr>\n",
       "    </thead>\n",
       "    <tbody>\n",
       "    </tbody>\n",
       "</table>"
      ],
      "text/plain": [
       "++\n",
       "||\n",
       "++\n",
       "++"
      ]
     },
     "execution_count": 12,
     "metadata": {},
     "output_type": "execute_result"
    }
   ],
   "source": [
    "%%sql\n",
    "INSERT INTO\n",
    "  glue.demo.users4(id4, age4, name4)\n",
    "VALUES\n",
    "  (1, 23, 'a'),\n",
    "  (2, 34, 'a'),\n",
    "  (3, 45, 'a');"
   ]
  },
  {
   "cell_type": "code",
   "execution_count": 37,
   "id": "4b6aea6c-95b6-4608-b270-6d650118a0eb",
   "metadata": {},
   "outputs": [
    {
     "data": {
      "text/html": [
       "<table>\n",
       "    <thead>\n",
       "        <tr>\n",
       "        </tr>\n",
       "    </thead>\n",
       "    <tbody>\n",
       "    </tbody>\n",
       "</table>"
      ],
      "text/plain": [
       "++\n",
       "||\n",
       "++\n",
       "++"
      ]
     },
     "execution_count": 37,
     "metadata": {},
     "output_type": "execute_result"
    }
   ],
   "source": [
    "%%sql\n",
    "TRUNCATE table glue.demo.users4;\n"
   ]
  },
  {
   "cell_type": "code",
   "execution_count": 18,
   "id": "b193db90-51a0-40c3-97fa-efcdd1056499",
   "metadata": {
    "scrolled": true
   },
   "outputs": [
    {
     "data": {
      "text/html": [
       "<table>\n",
       "    <thead>\n",
       "        <tr>\n",
       "            <th>id4</th>\n",
       "            <th>name4</th>\n",
       "            <th>age4</th>\n",
       "        </tr>\n",
       "    </thead>\n",
       "    <tbody>\n",
       "        <tr>\n",
       "            <td>1</td>\n",
       "            <td>a</td>\n",
       "            <td>23</td>\n",
       "        </tr>\n",
       "        <tr>\n",
       "            <td>3</td>\n",
       "            <td>a</td>\n",
       "            <td>45</td>\n",
       "        </tr>\n",
       "        <tr>\n",
       "            <td>2</td>\n",
       "            <td>a</td>\n",
       "            <td>34</td>\n",
       "        </tr>\n",
       "        <tr>\n",
       "            <td>1</td>\n",
       "            <td>a</td>\n",
       "            <td>23</td>\n",
       "        </tr>\n",
       "        <tr>\n",
       "            <td>3</td>\n",
       "            <td>a</td>\n",
       "            <td>45</td>\n",
       "        </tr>\n",
       "        <tr>\n",
       "            <td>2</td>\n",
       "            <td>a</td>\n",
       "            <td>34</td>\n",
       "        </tr>\n",
       "        <tr>\n",
       "            <td>1</td>\n",
       "            <td>a</td>\n",
       "            <td>23</td>\n",
       "        </tr>\n",
       "        <tr>\n",
       "            <td>3</td>\n",
       "            <td>a</td>\n",
       "            <td>45</td>\n",
       "        </tr>\n",
       "        <tr>\n",
       "            <td>2</td>\n",
       "            <td>a</td>\n",
       "            <td>34</td>\n",
       "        </tr>\n",
       "    </tbody>\n",
       "</table>"
      ],
      "text/plain": [
       "+-----+-------+------+\n",
       "| id4 | name4 | age4 |\n",
       "+-----+-------+------+\n",
       "|   1 |     a |   23 |\n",
       "|   3 |     a |   45 |\n",
       "|   2 |     a |   34 |\n",
       "|   1 |     a |   23 |\n",
       "|   3 |     a |   45 |\n",
       "|   2 |     a |   34 |\n",
       "|   1 |     a |   23 |\n",
       "|   3 |     a |   45 |\n",
       "|   2 |     a |   34 |\n",
       "+-----+-------+------+"
      ]
     },
     "execution_count": 18,
     "metadata": {},
     "output_type": "execute_result"
    }
   ],
   "source": [
    "%%sql\n",
    "select * from glue.demo.users4;"
   ]
  },
  {
   "cell_type": "code",
   "execution_count": 19,
   "id": "3402230e-3daa-4367-8292-977481f93430",
   "metadata": {},
   "outputs": [
    {
     "ename": "Py4JJavaError",
     "evalue": "An error occurred while calling o390.sql.\n: software.amazon.awssdk.services.glue.model.AccessDeniedException: Insufficient Lake Formation permission(s) on users6 (Service: Glue, Status Code: 400, Request ID: 2e475a49-7794-45d5-96b8-356a124dbced)\n\tat software.amazon.awssdk.core.internal.http.CombinedResponseHandler.handleErrorResponse(CombinedResponseHandler.java:124)\n\tat software.amazon.awssdk.core.internal.http.CombinedResponseHandler.handleResponse(CombinedResponseHandler.java:81)\n\tat software.amazon.awssdk.core.internal.http.CombinedResponseHandler.handle(CombinedResponseHandler.java:59)\n\tat software.amazon.awssdk.core.internal.http.CombinedResponseHandler.handle(CombinedResponseHandler.java:40)\n\tat software.amazon.awssdk.core.internal.http.pipeline.stages.HandleResponseStage.execute(HandleResponseStage.java:50)\n\tat software.amazon.awssdk.core.internal.http.pipeline.stages.HandleResponseStage.execute(HandleResponseStage.java:38)\n\tat software.amazon.awssdk.core.internal.http.pipeline.RequestPipelineBuilder$ComposingRequestPipelineStage.execute(RequestPipelineBuilder.java:206)\n\tat software.amazon.awssdk.core.internal.http.pipeline.stages.ApiCallAttemptTimeoutTrackingStage.execute(ApiCallAttemptTimeoutTrackingStage.java:74)\n\tat software.amazon.awssdk.core.internal.http.pipeline.stages.ApiCallAttemptTimeoutTrackingStage.execute(ApiCallAttemptTimeoutTrackingStage.java:43)\n\tat software.amazon.awssdk.core.internal.http.pipeline.stages.TimeoutExceptionHandlingStage.execute(TimeoutExceptionHandlingStage.java:79)\n\tat software.amazon.awssdk.core.internal.http.pipeline.stages.TimeoutExceptionHandlingStage.execute(TimeoutExceptionHandlingStage.java:41)\n\tat software.amazon.awssdk.core.internal.http.pipeline.stages.ApiCallAttemptMetricCollectionStage.execute(ApiCallAttemptMetricCollectionStage.java:55)\n\tat software.amazon.awssdk.core.internal.http.pipeline.stages.ApiCallAttemptMetricCollectionStage.execute(ApiCallAttemptMetricCollectionStage.java:39)\n\tat software.amazon.awssdk.core.internal.http.pipeline.stages.RetryableStage2.executeRequest(RetryableStage2.java:93)\n\tat software.amazon.awssdk.core.internal.http.pipeline.stages.RetryableStage2.execute(RetryableStage2.java:56)\n\tat software.amazon.awssdk.core.internal.http.pipeline.stages.RetryableStage2.execute(RetryableStage2.java:36)\n\tat software.amazon.awssdk.core.internal.http.pipeline.RequestPipelineBuilder$ComposingRequestPipelineStage.execute(RequestPipelineBuilder.java:206)\n\tat software.amazon.awssdk.core.internal.http.StreamManagingStage.execute(StreamManagingStage.java:53)\n\tat software.amazon.awssdk.core.internal.http.StreamManagingStage.execute(StreamManagingStage.java:35)\n\tat software.amazon.awssdk.core.internal.http.pipeline.stages.ApiCallTimeoutTrackingStage.executeWithTimer(ApiCallTimeoutTrackingStage.java:82)\n\tat software.amazon.awssdk.core.internal.http.pipeline.stages.ApiCallTimeoutTrackingStage.execute(ApiCallTimeoutTrackingStage.java:62)\n\tat software.amazon.awssdk.core.internal.http.pipeline.stages.ApiCallTimeoutTrackingStage.execute(ApiCallTimeoutTrackingStage.java:43)\n\tat software.amazon.awssdk.core.internal.http.pipeline.stages.ApiCallMetricCollectionStage.execute(ApiCallMetricCollectionStage.java:50)\n\tat software.amazon.awssdk.core.internal.http.pipeline.stages.ApiCallMetricCollectionStage.execute(ApiCallMetricCollectionStage.java:32)\n\tat software.amazon.awssdk.core.internal.http.pipeline.RequestPipelineBuilder$ComposingRequestPipelineStage.execute(RequestPipelineBuilder.java:206)\n\tat software.amazon.awssdk.core.internal.http.pipeline.RequestPipelineBuilder$ComposingRequestPipelineStage.execute(RequestPipelineBuilder.java:206)\n\tat software.amazon.awssdk.core.internal.http.pipeline.stages.ExecutionFailureExceptionReportingStage.execute(ExecutionFailureExceptionReportingStage.java:37)\n\tat software.amazon.awssdk.core.internal.http.pipeline.stages.ExecutionFailureExceptionReportingStage.execute(ExecutionFailureExceptionReportingStage.java:26)\n\tat software.amazon.awssdk.core.internal.http.AmazonSyncHttpClient$RequestExecutionBuilderImpl.execute(AmazonSyncHttpClient.java:210)\n\tat software.amazon.awssdk.core.internal.handler.BaseSyncClientHandler.invoke(BaseSyncClientHandler.java:103)\n\tat software.amazon.awssdk.core.internal.handler.BaseSyncClientHandler.doExecute(BaseSyncClientHandler.java:173)\n\tat software.amazon.awssdk.core.internal.handler.BaseSyncClientHandler.lambda$execute$1(BaseSyncClientHandler.java:80)\n\tat software.amazon.awssdk.core.internal.handler.BaseSyncClientHandler.measureApiCallSuccess(BaseSyncClientHandler.java:182)\n\tat software.amazon.awssdk.core.internal.handler.BaseSyncClientHandler.execute(BaseSyncClientHandler.java:74)\n\tat software.amazon.awssdk.core.client.handler.SdkSyncClientHandler.execute(SdkSyncClientHandler.java:45)\n\tat software.amazon.awssdk.awscore.client.handler.AwsSyncClientHandler.execute(AwsSyncClientHandler.java:53)\n\tat software.amazon.awssdk.services.glue.DefaultGlueClient.getTable(DefaultGlueClient.java:10007)\n\tat org.apache.iceberg.aws.glue.GlueTableOperations.getGlueTable(GlueTableOperations.java:279)\n\tat org.apache.iceberg.aws.glue.GlueTableOperations.doRefresh(GlueTableOperations.java:128)\n\tat org.apache.iceberg.BaseMetastoreTableOperations.refresh(BaseMetastoreTableOperations.java:87)\n\tat org.apache.iceberg.BaseMetastoreTableOperations.current(BaseMetastoreTableOperations.java:70)\n\tat org.apache.iceberg.BaseMetastoreCatalog.loadTable(BaseMetastoreCatalog.java:49)\n\tat org.apache.iceberg.shaded.com.github.benmanes.caffeine.cache.BoundedLocalCache.lambda$doComputeIfAbsent$14(BoundedLocalCache.java:2406)\n\tat java.base/java.util.concurrent.ConcurrentHashMap.compute(ConcurrentHashMap.java:1916)\n\tat org.apache.iceberg.shaded.com.github.benmanes.caffeine.cache.BoundedLocalCache.doComputeIfAbsent(BoundedLocalCache.java:2404)\n\tat org.apache.iceberg.shaded.com.github.benmanes.caffeine.cache.BoundedLocalCache.computeIfAbsent(BoundedLocalCache.java:2387)\n\tat org.apache.iceberg.shaded.com.github.benmanes.caffeine.cache.LocalCache.computeIfAbsent(LocalCache.java:108)\n\tat org.apache.iceberg.shaded.com.github.benmanes.caffeine.cache.LocalManualCache.get(LocalManualCache.java:62)\n\tat org.apache.iceberg.CachingCatalog.loadTable(CachingCatalog.java:147)\n\tat org.apache.iceberg.spark.SparkCatalog.load(SparkCatalog.java:844)\n\tat org.apache.iceberg.spark.SparkCatalog.loadTable(SparkCatalog.java:169)\n\tat org.apache.spark.sql.connector.catalog.TableCatalog.tableExists(TableCatalog.java:185)\n\tat org.apache.spark.sql.execution.datasources.v2.CreateTableExec.run(CreateTableExec.scala:42)\n\tat org.apache.spark.sql.execution.datasources.v2.V2CommandExec.result$lzycompute(V2CommandExec.scala:43)\n\tat org.apache.spark.sql.execution.datasources.v2.V2CommandExec.result(V2CommandExec.scala:43)\n\tat org.apache.spark.sql.execution.datasources.v2.V2CommandExec.executeCollect(V2CommandExec.scala:49)\n\tat org.apache.spark.sql.execution.QueryExecution$$anonfun$eagerlyExecuteCommands$1.$anonfun$applyOrElse$1(QueryExecution.scala:107)\n\tat org.apache.spark.sql.execution.SQLExecution$.$anonfun$withNewExecutionId$6(SQLExecution.scala:125)\n\tat org.apache.spark.sql.execution.SQLExecution$.withSQLConfPropagated(SQLExecution.scala:201)\n\tat org.apache.spark.sql.execution.SQLExecution$.$anonfun$withNewExecutionId$1(SQLExecution.scala:108)\n\tat org.apache.spark.sql.SparkSession.withActive(SparkSession.scala:900)\n\tat org.apache.spark.sql.execution.SQLExecution$.withNewExecutionId(SQLExecution.scala:66)\n\tat org.apache.spark.sql.execution.QueryExecution$$anonfun$eagerlyExecuteCommands$1.applyOrElse(QueryExecution.scala:107)\n\tat org.apache.spark.sql.execution.QueryExecution$$anonfun$eagerlyExecuteCommands$1.applyOrElse(QueryExecution.scala:98)\n\tat org.apache.spark.sql.catalyst.trees.TreeNode.$anonfun$transformDownWithPruning$1(TreeNode.scala:461)\n\tat org.apache.spark.sql.catalyst.trees.CurrentOrigin$.withOrigin(origin.scala:76)\n\tat org.apache.spark.sql.catalyst.trees.TreeNode.transformDownWithPruning(TreeNode.scala:461)\n\tat org.apache.spark.sql.catalyst.plans.logical.LogicalPlan.org$apache$spark$sql$catalyst$plans$logical$AnalysisHelper$$super$transformDownWithPruning(LogicalPlan.scala:32)\n\tat org.apache.spark.sql.catalyst.plans.logical.AnalysisHelper.transformDownWithPruning(AnalysisHelper.scala:267)\n\tat org.apache.spark.sql.catalyst.plans.logical.AnalysisHelper.transformDownWithPruning$(AnalysisHelper.scala:263)\n\tat org.apache.spark.sql.catalyst.plans.logical.LogicalPlan.transformDownWithPruning(LogicalPlan.scala:32)\n\tat org.apache.spark.sql.catalyst.plans.logical.LogicalPlan.transformDownWithPruning(LogicalPlan.scala:32)\n\tat org.apache.spark.sql.catalyst.trees.TreeNode.transformDown(TreeNode.scala:437)\n\tat org.apache.spark.sql.execution.QueryExecution.eagerlyExecuteCommands(QueryExecution.scala:98)\n\tat org.apache.spark.sql.execution.QueryExecution.commandExecuted$lzycompute(QueryExecution.scala:85)\n\tat org.apache.spark.sql.execution.QueryExecution.commandExecuted(QueryExecution.scala:83)\n\tat org.apache.spark.sql.Dataset.<init>(Dataset.scala:220)\n\tat org.apache.spark.sql.Dataset$.$anonfun$ofRows$2(Dataset.scala:100)\n\tat org.apache.spark.sql.SparkSession.withActive(SparkSession.scala:900)\n\tat org.apache.spark.sql.Dataset$.ofRows(Dataset.scala:97)\n\tat org.apache.spark.sql.SparkSession.$anonfun$sql$1(SparkSession.scala:638)\n\tat org.apache.spark.sql.SparkSession.withActive(SparkSession.scala:900)\n\tat org.apache.spark.sql.SparkSession.sql(SparkSession.scala:629)\n\tat org.apache.spark.sql.SparkSession.sql(SparkSession.scala:659)\n\tat jdk.internal.reflect.GeneratedMethodAccessor73.invoke(Unknown Source)\n\tat java.base/jdk.internal.reflect.DelegatingMethodAccessorImpl.invoke(DelegatingMethodAccessorImpl.java:43)\n\tat java.base/java.lang.reflect.Method.invoke(Method.java:569)\n\tat py4j.reflection.MethodInvoker.invoke(MethodInvoker.java:244)\n\tat py4j.reflection.ReflectionEngine.invoke(ReflectionEngine.java:374)\n\tat py4j.Gateway.invoke(Gateway.java:282)\n\tat py4j.commands.AbstractCommand.invokeMethod(AbstractCommand.java:132)\n\tat py4j.commands.CallCommand.execute(CallCommand.java:79)\n\tat py4j.ClientServerConnection.waitForCommands(ClientServerConnection.java:182)\n\tat py4j.ClientServerConnection.run(ClientServerConnection.java:106)\n\tat java.base/java.lang.Thread.run(Thread.java:840)\n",
     "output_type": "error",
     "traceback": [
      "\u001b[0;31m---------------------------------------------------------------------------\u001b[0m",
      "\u001b[0;31mPy4JJavaError\u001b[0m                             Traceback (most recent call last)",
      "Cell \u001b[0;32mIn[19], line 1\u001b[0m\n\u001b[0;32m----> 1\u001b[0m \u001b[43mget_ipython\u001b[49m\u001b[43m(\u001b[49m\u001b[43m)\u001b[49m\u001b[38;5;241;43m.\u001b[39;49m\u001b[43mrun_cell_magic\u001b[49m\u001b[43m(\u001b[49m\u001b[38;5;124;43m'\u001b[39;49m\u001b[38;5;124;43msql\u001b[39;49m\u001b[38;5;124;43m'\u001b[39;49m\u001b[43m,\u001b[49m\u001b[43m \u001b[49m\u001b[38;5;124;43m'\u001b[39;49m\u001b[38;5;124;43m'\u001b[39;49m\u001b[43m,\u001b[49m\u001b[43m \u001b[49m\u001b[38;5;124;43m'\u001b[39;49m\u001b[38;5;124;43mCREATE TABLE\u001b[39;49m\u001b[38;5;130;43;01m\\n\u001b[39;49;00m\u001b[38;5;124;43m  IF NOT EXISTS glue.demo.users6 (id BIGINT, name STRING, age INT) USING ICEBERG PARTITIONED BY (age);\u001b[39;49m\u001b[38;5;130;43;01m\\n\u001b[39;49;00m\u001b[38;5;124;43m'\u001b[39;49m\u001b[43m)\u001b[49m\n",
      "File \u001b[0;32m/usr/local/lib/python3.10/site-packages/IPython/core/interactiveshell.py:2543\u001b[0m, in \u001b[0;36mInteractiveShell.run_cell_magic\u001b[0;34m(self, magic_name, line, cell)\u001b[0m\n\u001b[1;32m   2541\u001b[0m \u001b[38;5;28;01mwith\u001b[39;00m \u001b[38;5;28mself\u001b[39m\u001b[38;5;241m.\u001b[39mbuiltin_trap:\n\u001b[1;32m   2542\u001b[0m     args \u001b[38;5;241m=\u001b[39m (magic_arg_s, cell)\n\u001b[0;32m-> 2543\u001b[0m     result \u001b[38;5;241m=\u001b[39m \u001b[43mfn\u001b[49m\u001b[43m(\u001b[49m\u001b[38;5;241;43m*\u001b[39;49m\u001b[43margs\u001b[49m\u001b[43m,\u001b[49m\u001b[43m \u001b[49m\u001b[38;5;241;43m*\u001b[39;49m\u001b[38;5;241;43m*\u001b[39;49m\u001b[43mkwargs\u001b[49m\u001b[43m)\u001b[49m\n\u001b[1;32m   2545\u001b[0m \u001b[38;5;66;03m# The code below prevents the output from being displayed\u001b[39;00m\n\u001b[1;32m   2546\u001b[0m \u001b[38;5;66;03m# when using magics with decorator @output_can_be_silenced\u001b[39;00m\n\u001b[1;32m   2547\u001b[0m \u001b[38;5;66;03m# when the last Python token in the expression is a ';'.\u001b[39;00m\n\u001b[1;32m   2548\u001b[0m \u001b[38;5;28;01mif\u001b[39;00m \u001b[38;5;28mgetattr\u001b[39m(fn, magic\u001b[38;5;241m.\u001b[39mMAGIC_OUTPUT_CAN_BE_SILENCED, \u001b[38;5;28;01mFalse\u001b[39;00m):\n",
      "File \u001b[0;32m~/.ipython/profile_default/startup/00-prettytables.py:81\u001b[0m, in \u001b[0;36msql\u001b[0;34m(line, cell)\u001b[0m\n\u001b[1;32m     79\u001b[0m         \u001b[38;5;28;01mreturn\u001b[39;00m _to_table(df, num_rows\u001b[38;5;241m=\u001b[39margs\u001b[38;5;241m.\u001b[39mlimit)\n\u001b[1;32m     80\u001b[0m \u001b[38;5;28;01melse\u001b[39;00m:\n\u001b[0;32m---> 81\u001b[0m     \u001b[38;5;28;01mreturn\u001b[39;00m _to_table(\u001b[43mspark\u001b[49m\u001b[38;5;241;43m.\u001b[39;49m\u001b[43msql\u001b[49m\u001b[43m(\u001b[49m\u001b[43mcell\u001b[49m\u001b[43m)\u001b[49m)\n",
      "File \u001b[0;32m/opt/spark/python/pyspark/sql/session.py:1631\u001b[0m, in \u001b[0;36mSparkSession.sql\u001b[0;34m(self, sqlQuery, args, **kwargs)\u001b[0m\n\u001b[1;32m   1627\u001b[0m         \u001b[38;5;28;01massert\u001b[39;00m \u001b[38;5;28mself\u001b[39m\u001b[38;5;241m.\u001b[39m_jvm \u001b[38;5;129;01mis\u001b[39;00m \u001b[38;5;129;01mnot\u001b[39;00m \u001b[38;5;28;01mNone\u001b[39;00m\n\u001b[1;32m   1628\u001b[0m         litArgs \u001b[38;5;241m=\u001b[39m \u001b[38;5;28mself\u001b[39m\u001b[38;5;241m.\u001b[39m_jvm\u001b[38;5;241m.\u001b[39mPythonUtils\u001b[38;5;241m.\u001b[39mtoArray(\n\u001b[1;32m   1629\u001b[0m             [_to_java_column(lit(v)) \u001b[38;5;28;01mfor\u001b[39;00m v \u001b[38;5;129;01min\u001b[39;00m (args \u001b[38;5;129;01mor\u001b[39;00m [])]\n\u001b[1;32m   1630\u001b[0m         )\n\u001b[0;32m-> 1631\u001b[0m     \u001b[38;5;28;01mreturn\u001b[39;00m DataFrame(\u001b[38;5;28;43mself\u001b[39;49m\u001b[38;5;241;43m.\u001b[39;49m\u001b[43m_jsparkSession\u001b[49m\u001b[38;5;241;43m.\u001b[39;49m\u001b[43msql\u001b[49m\u001b[43m(\u001b[49m\u001b[43msqlQuery\u001b[49m\u001b[43m,\u001b[49m\u001b[43m \u001b[49m\u001b[43mlitArgs\u001b[49m\u001b[43m)\u001b[49m, \u001b[38;5;28mself\u001b[39m)\n\u001b[1;32m   1632\u001b[0m \u001b[38;5;28;01mfinally\u001b[39;00m:\n\u001b[1;32m   1633\u001b[0m     \u001b[38;5;28;01mif\u001b[39;00m \u001b[38;5;28mlen\u001b[39m(kwargs) \u001b[38;5;241m>\u001b[39m \u001b[38;5;241m0\u001b[39m:\n",
      "File \u001b[0;32m/opt/spark/python/lib/py4j-0.10.9.7-src.zip/py4j/java_gateway.py:1322\u001b[0m, in \u001b[0;36mJavaMember.__call__\u001b[0;34m(self, *args)\u001b[0m\n\u001b[1;32m   1316\u001b[0m command \u001b[38;5;241m=\u001b[39m proto\u001b[38;5;241m.\u001b[39mCALL_COMMAND_NAME \u001b[38;5;241m+\u001b[39m\\\n\u001b[1;32m   1317\u001b[0m     \u001b[38;5;28mself\u001b[39m\u001b[38;5;241m.\u001b[39mcommand_header \u001b[38;5;241m+\u001b[39m\\\n\u001b[1;32m   1318\u001b[0m     args_command \u001b[38;5;241m+\u001b[39m\\\n\u001b[1;32m   1319\u001b[0m     proto\u001b[38;5;241m.\u001b[39mEND_COMMAND_PART\n\u001b[1;32m   1321\u001b[0m answer \u001b[38;5;241m=\u001b[39m \u001b[38;5;28mself\u001b[39m\u001b[38;5;241m.\u001b[39mgateway_client\u001b[38;5;241m.\u001b[39msend_command(command)\n\u001b[0;32m-> 1322\u001b[0m return_value \u001b[38;5;241m=\u001b[39m \u001b[43mget_return_value\u001b[49m\u001b[43m(\u001b[49m\n\u001b[1;32m   1323\u001b[0m \u001b[43m    \u001b[49m\u001b[43manswer\u001b[49m\u001b[43m,\u001b[49m\u001b[43m \u001b[49m\u001b[38;5;28;43mself\u001b[39;49m\u001b[38;5;241;43m.\u001b[39;49m\u001b[43mgateway_client\u001b[49m\u001b[43m,\u001b[49m\u001b[43m \u001b[49m\u001b[38;5;28;43mself\u001b[39;49m\u001b[38;5;241;43m.\u001b[39;49m\u001b[43mtarget_id\u001b[49m\u001b[43m,\u001b[49m\u001b[43m \u001b[49m\u001b[38;5;28;43mself\u001b[39;49m\u001b[38;5;241;43m.\u001b[39;49m\u001b[43mname\u001b[49m\u001b[43m)\u001b[49m\n\u001b[1;32m   1325\u001b[0m \u001b[38;5;28;01mfor\u001b[39;00m temp_arg \u001b[38;5;129;01min\u001b[39;00m temp_args:\n\u001b[1;32m   1326\u001b[0m     \u001b[38;5;28;01mif\u001b[39;00m \u001b[38;5;28mhasattr\u001b[39m(temp_arg, \u001b[38;5;124m\"\u001b[39m\u001b[38;5;124m_detach\u001b[39m\u001b[38;5;124m\"\u001b[39m):\n",
      "File \u001b[0;32m/opt/spark/python/pyspark/errors/exceptions/captured.py:179\u001b[0m, in \u001b[0;36mcapture_sql_exception.<locals>.deco\u001b[0;34m(*a, **kw)\u001b[0m\n\u001b[1;32m    177\u001b[0m \u001b[38;5;28;01mdef\u001b[39;00m\u001b[38;5;250m \u001b[39m\u001b[38;5;21mdeco\u001b[39m(\u001b[38;5;241m*\u001b[39ma: Any, \u001b[38;5;241m*\u001b[39m\u001b[38;5;241m*\u001b[39mkw: Any) \u001b[38;5;241m-\u001b[39m\u001b[38;5;241m>\u001b[39m Any:\n\u001b[1;32m    178\u001b[0m     \u001b[38;5;28;01mtry\u001b[39;00m:\n\u001b[0;32m--> 179\u001b[0m         \u001b[38;5;28;01mreturn\u001b[39;00m \u001b[43mf\u001b[49m\u001b[43m(\u001b[49m\u001b[38;5;241;43m*\u001b[39;49m\u001b[43ma\u001b[49m\u001b[43m,\u001b[49m\u001b[43m \u001b[49m\u001b[38;5;241;43m*\u001b[39;49m\u001b[38;5;241;43m*\u001b[39;49m\u001b[43mkw\u001b[49m\u001b[43m)\u001b[49m\n\u001b[1;32m    180\u001b[0m     \u001b[38;5;28;01mexcept\u001b[39;00m Py4JJavaError \u001b[38;5;28;01mas\u001b[39;00m e:\n\u001b[1;32m    181\u001b[0m         converted \u001b[38;5;241m=\u001b[39m convert_exception(e\u001b[38;5;241m.\u001b[39mjava_exception)\n",
      "File \u001b[0;32m/opt/spark/python/lib/py4j-0.10.9.7-src.zip/py4j/protocol.py:326\u001b[0m, in \u001b[0;36mget_return_value\u001b[0;34m(answer, gateway_client, target_id, name)\u001b[0m\n\u001b[1;32m    324\u001b[0m value \u001b[38;5;241m=\u001b[39m OUTPUT_CONVERTER[\u001b[38;5;28mtype\u001b[39m](answer[\u001b[38;5;241m2\u001b[39m:], gateway_client)\n\u001b[1;32m    325\u001b[0m \u001b[38;5;28;01mif\u001b[39;00m answer[\u001b[38;5;241m1\u001b[39m] \u001b[38;5;241m==\u001b[39m REFERENCE_TYPE:\n\u001b[0;32m--> 326\u001b[0m     \u001b[38;5;28;01mraise\u001b[39;00m Py4JJavaError(\n\u001b[1;32m    327\u001b[0m         \u001b[38;5;124m\"\u001b[39m\u001b[38;5;124mAn error occurred while calling \u001b[39m\u001b[38;5;132;01m{0}\u001b[39;00m\u001b[38;5;132;01m{1}\u001b[39;00m\u001b[38;5;132;01m{2}\u001b[39;00m\u001b[38;5;124m.\u001b[39m\u001b[38;5;130;01m\\n\u001b[39;00m\u001b[38;5;124m\"\u001b[39m\u001b[38;5;241m.\u001b[39m\n\u001b[1;32m    328\u001b[0m         \u001b[38;5;28mformat\u001b[39m(target_id, \u001b[38;5;124m\"\u001b[39m\u001b[38;5;124m.\u001b[39m\u001b[38;5;124m\"\u001b[39m, name), value)\n\u001b[1;32m    329\u001b[0m \u001b[38;5;28;01melse\u001b[39;00m:\n\u001b[1;32m    330\u001b[0m     \u001b[38;5;28;01mraise\u001b[39;00m Py4JError(\n\u001b[1;32m    331\u001b[0m         \u001b[38;5;124m\"\u001b[39m\u001b[38;5;124mAn error occurred while calling \u001b[39m\u001b[38;5;132;01m{0}\u001b[39;00m\u001b[38;5;132;01m{1}\u001b[39;00m\u001b[38;5;132;01m{2}\u001b[39;00m\u001b[38;5;124m. Trace:\u001b[39m\u001b[38;5;130;01m\\n\u001b[39;00m\u001b[38;5;132;01m{3}\u001b[39;00m\u001b[38;5;130;01m\\n\u001b[39;00m\u001b[38;5;124m\"\u001b[39m\u001b[38;5;241m.\u001b[39m\n\u001b[1;32m    332\u001b[0m         \u001b[38;5;28mformat\u001b[39m(target_id, \u001b[38;5;124m\"\u001b[39m\u001b[38;5;124m.\u001b[39m\u001b[38;5;124m\"\u001b[39m, name, value))\n",
      "\u001b[0;31mPy4JJavaError\u001b[0m: An error occurred while calling o390.sql.\n: software.amazon.awssdk.services.glue.model.AccessDeniedException: Insufficient Lake Formation permission(s) on users6 (Service: Glue, Status Code: 400, Request ID: 2e475a49-7794-45d5-96b8-356a124dbced)\n\tat software.amazon.awssdk.core.internal.http.CombinedResponseHandler.handleErrorResponse(CombinedResponseHandler.java:124)\n\tat software.amazon.awssdk.core.internal.http.CombinedResponseHandler.handleResponse(CombinedResponseHandler.java:81)\n\tat software.amazon.awssdk.core.internal.http.CombinedResponseHandler.handle(CombinedResponseHandler.java:59)\n\tat software.amazon.awssdk.core.internal.http.CombinedResponseHandler.handle(CombinedResponseHandler.java:40)\n\tat software.amazon.awssdk.core.internal.http.pipeline.stages.HandleResponseStage.execute(HandleResponseStage.java:50)\n\tat software.amazon.awssdk.core.internal.http.pipeline.stages.HandleResponseStage.execute(HandleResponseStage.java:38)\n\tat software.amazon.awssdk.core.internal.http.pipeline.RequestPipelineBuilder$ComposingRequestPipelineStage.execute(RequestPipelineBuilder.java:206)\n\tat software.amazon.awssdk.core.internal.http.pipeline.stages.ApiCallAttemptTimeoutTrackingStage.execute(ApiCallAttemptTimeoutTrackingStage.java:74)\n\tat software.amazon.awssdk.core.internal.http.pipeline.stages.ApiCallAttemptTimeoutTrackingStage.execute(ApiCallAttemptTimeoutTrackingStage.java:43)\n\tat software.amazon.awssdk.core.internal.http.pipeline.stages.TimeoutExceptionHandlingStage.execute(TimeoutExceptionHandlingStage.java:79)\n\tat software.amazon.awssdk.core.internal.http.pipeline.stages.TimeoutExceptionHandlingStage.execute(TimeoutExceptionHandlingStage.java:41)\n\tat software.amazon.awssdk.core.internal.http.pipeline.stages.ApiCallAttemptMetricCollectionStage.execute(ApiCallAttemptMetricCollectionStage.java:55)\n\tat software.amazon.awssdk.core.internal.http.pipeline.stages.ApiCallAttemptMetricCollectionStage.execute(ApiCallAttemptMetricCollectionStage.java:39)\n\tat software.amazon.awssdk.core.internal.http.pipeline.stages.RetryableStage2.executeRequest(RetryableStage2.java:93)\n\tat software.amazon.awssdk.core.internal.http.pipeline.stages.RetryableStage2.execute(RetryableStage2.java:56)\n\tat software.amazon.awssdk.core.internal.http.pipeline.stages.RetryableStage2.execute(RetryableStage2.java:36)\n\tat software.amazon.awssdk.core.internal.http.pipeline.RequestPipelineBuilder$ComposingRequestPipelineStage.execute(RequestPipelineBuilder.java:206)\n\tat software.amazon.awssdk.core.internal.http.StreamManagingStage.execute(StreamManagingStage.java:53)\n\tat software.amazon.awssdk.core.internal.http.StreamManagingStage.execute(StreamManagingStage.java:35)\n\tat software.amazon.awssdk.core.internal.http.pipeline.stages.ApiCallTimeoutTrackingStage.executeWithTimer(ApiCallTimeoutTrackingStage.java:82)\n\tat software.amazon.awssdk.core.internal.http.pipeline.stages.ApiCallTimeoutTrackingStage.execute(ApiCallTimeoutTrackingStage.java:62)\n\tat software.amazon.awssdk.core.internal.http.pipeline.stages.ApiCallTimeoutTrackingStage.execute(ApiCallTimeoutTrackingStage.java:43)\n\tat software.amazon.awssdk.core.internal.http.pipeline.stages.ApiCallMetricCollectionStage.execute(ApiCallMetricCollectionStage.java:50)\n\tat software.amazon.awssdk.core.internal.http.pipeline.stages.ApiCallMetricCollectionStage.execute(ApiCallMetricCollectionStage.java:32)\n\tat software.amazon.awssdk.core.internal.http.pipeline.RequestPipelineBuilder$ComposingRequestPipelineStage.execute(RequestPipelineBuilder.java:206)\n\tat software.amazon.awssdk.core.internal.http.pipeline.RequestPipelineBuilder$ComposingRequestPipelineStage.execute(RequestPipelineBuilder.java:206)\n\tat software.amazon.awssdk.core.internal.http.pipeline.stages.ExecutionFailureExceptionReportingStage.execute(ExecutionFailureExceptionReportingStage.java:37)\n\tat software.amazon.awssdk.core.internal.http.pipeline.stages.ExecutionFailureExceptionReportingStage.execute(ExecutionFailureExceptionReportingStage.java:26)\n\tat software.amazon.awssdk.core.internal.http.AmazonSyncHttpClient$RequestExecutionBuilderImpl.execute(AmazonSyncHttpClient.java:210)\n\tat software.amazon.awssdk.core.internal.handler.BaseSyncClientHandler.invoke(BaseSyncClientHandler.java:103)\n\tat software.amazon.awssdk.core.internal.handler.BaseSyncClientHandler.doExecute(BaseSyncClientHandler.java:173)\n\tat software.amazon.awssdk.core.internal.handler.BaseSyncClientHandler.lambda$execute$1(BaseSyncClientHandler.java:80)\n\tat software.amazon.awssdk.core.internal.handler.BaseSyncClientHandler.measureApiCallSuccess(BaseSyncClientHandler.java:182)\n\tat software.amazon.awssdk.core.internal.handler.BaseSyncClientHandler.execute(BaseSyncClientHandler.java:74)\n\tat software.amazon.awssdk.core.client.handler.SdkSyncClientHandler.execute(SdkSyncClientHandler.java:45)\n\tat software.amazon.awssdk.awscore.client.handler.AwsSyncClientHandler.execute(AwsSyncClientHandler.java:53)\n\tat software.amazon.awssdk.services.glue.DefaultGlueClient.getTable(DefaultGlueClient.java:10007)\n\tat org.apache.iceberg.aws.glue.GlueTableOperations.getGlueTable(GlueTableOperations.java:279)\n\tat org.apache.iceberg.aws.glue.GlueTableOperations.doRefresh(GlueTableOperations.java:128)\n\tat org.apache.iceberg.BaseMetastoreTableOperations.refresh(BaseMetastoreTableOperations.java:87)\n\tat org.apache.iceberg.BaseMetastoreTableOperations.current(BaseMetastoreTableOperations.java:70)\n\tat org.apache.iceberg.BaseMetastoreCatalog.loadTable(BaseMetastoreCatalog.java:49)\n\tat org.apache.iceberg.shaded.com.github.benmanes.caffeine.cache.BoundedLocalCache.lambda$doComputeIfAbsent$14(BoundedLocalCache.java:2406)\n\tat java.base/java.util.concurrent.ConcurrentHashMap.compute(ConcurrentHashMap.java:1916)\n\tat org.apache.iceberg.shaded.com.github.benmanes.caffeine.cache.BoundedLocalCache.doComputeIfAbsent(BoundedLocalCache.java:2404)\n\tat org.apache.iceberg.shaded.com.github.benmanes.caffeine.cache.BoundedLocalCache.computeIfAbsent(BoundedLocalCache.java:2387)\n\tat org.apache.iceberg.shaded.com.github.benmanes.caffeine.cache.LocalCache.computeIfAbsent(LocalCache.java:108)\n\tat org.apache.iceberg.shaded.com.github.benmanes.caffeine.cache.LocalManualCache.get(LocalManualCache.java:62)\n\tat org.apache.iceberg.CachingCatalog.loadTable(CachingCatalog.java:147)\n\tat org.apache.iceberg.spark.SparkCatalog.load(SparkCatalog.java:844)\n\tat org.apache.iceberg.spark.SparkCatalog.loadTable(SparkCatalog.java:169)\n\tat org.apache.spark.sql.connector.catalog.TableCatalog.tableExists(TableCatalog.java:185)\n\tat org.apache.spark.sql.execution.datasources.v2.CreateTableExec.run(CreateTableExec.scala:42)\n\tat org.apache.spark.sql.execution.datasources.v2.V2CommandExec.result$lzycompute(V2CommandExec.scala:43)\n\tat org.apache.spark.sql.execution.datasources.v2.V2CommandExec.result(V2CommandExec.scala:43)\n\tat org.apache.spark.sql.execution.datasources.v2.V2CommandExec.executeCollect(V2CommandExec.scala:49)\n\tat org.apache.spark.sql.execution.QueryExecution$$anonfun$eagerlyExecuteCommands$1.$anonfun$applyOrElse$1(QueryExecution.scala:107)\n\tat org.apache.spark.sql.execution.SQLExecution$.$anonfun$withNewExecutionId$6(SQLExecution.scala:125)\n\tat org.apache.spark.sql.execution.SQLExecution$.withSQLConfPropagated(SQLExecution.scala:201)\n\tat org.apache.spark.sql.execution.SQLExecution$.$anonfun$withNewExecutionId$1(SQLExecution.scala:108)\n\tat org.apache.spark.sql.SparkSession.withActive(SparkSession.scala:900)\n\tat org.apache.spark.sql.execution.SQLExecution$.withNewExecutionId(SQLExecution.scala:66)\n\tat org.apache.spark.sql.execution.QueryExecution$$anonfun$eagerlyExecuteCommands$1.applyOrElse(QueryExecution.scala:107)\n\tat org.apache.spark.sql.execution.QueryExecution$$anonfun$eagerlyExecuteCommands$1.applyOrElse(QueryExecution.scala:98)\n\tat org.apache.spark.sql.catalyst.trees.TreeNode.$anonfun$transformDownWithPruning$1(TreeNode.scala:461)\n\tat org.apache.spark.sql.catalyst.trees.CurrentOrigin$.withOrigin(origin.scala:76)\n\tat org.apache.spark.sql.catalyst.trees.TreeNode.transformDownWithPruning(TreeNode.scala:461)\n\tat org.apache.spark.sql.catalyst.plans.logical.LogicalPlan.org$apache$spark$sql$catalyst$plans$logical$AnalysisHelper$$super$transformDownWithPruning(LogicalPlan.scala:32)\n\tat org.apache.spark.sql.catalyst.plans.logical.AnalysisHelper.transformDownWithPruning(AnalysisHelper.scala:267)\n\tat org.apache.spark.sql.catalyst.plans.logical.AnalysisHelper.transformDownWithPruning$(AnalysisHelper.scala:263)\n\tat org.apache.spark.sql.catalyst.plans.logical.LogicalPlan.transformDownWithPruning(LogicalPlan.scala:32)\n\tat org.apache.spark.sql.catalyst.plans.logical.LogicalPlan.transformDownWithPruning(LogicalPlan.scala:32)\n\tat org.apache.spark.sql.catalyst.trees.TreeNode.transformDown(TreeNode.scala:437)\n\tat org.apache.spark.sql.execution.QueryExecution.eagerlyExecuteCommands(QueryExecution.scala:98)\n\tat org.apache.spark.sql.execution.QueryExecution.commandExecuted$lzycompute(QueryExecution.scala:85)\n\tat org.apache.spark.sql.execution.QueryExecution.commandExecuted(QueryExecution.scala:83)\n\tat org.apache.spark.sql.Dataset.<init>(Dataset.scala:220)\n\tat org.apache.spark.sql.Dataset$.$anonfun$ofRows$2(Dataset.scala:100)\n\tat org.apache.spark.sql.SparkSession.withActive(SparkSession.scala:900)\n\tat org.apache.spark.sql.Dataset$.ofRows(Dataset.scala:97)\n\tat org.apache.spark.sql.SparkSession.$anonfun$sql$1(SparkSession.scala:638)\n\tat org.apache.spark.sql.SparkSession.withActive(SparkSession.scala:900)\n\tat org.apache.spark.sql.SparkSession.sql(SparkSession.scala:629)\n\tat org.apache.spark.sql.SparkSession.sql(SparkSession.scala:659)\n\tat jdk.internal.reflect.GeneratedMethodAccessor73.invoke(Unknown Source)\n\tat java.base/jdk.internal.reflect.DelegatingMethodAccessorImpl.invoke(DelegatingMethodAccessorImpl.java:43)\n\tat java.base/java.lang.reflect.Method.invoke(Method.java:569)\n\tat py4j.reflection.MethodInvoker.invoke(MethodInvoker.java:244)\n\tat py4j.reflection.ReflectionEngine.invoke(ReflectionEngine.java:374)\n\tat py4j.Gateway.invoke(Gateway.java:282)\n\tat py4j.commands.AbstractCommand.invokeMethod(AbstractCommand.java:132)\n\tat py4j.commands.CallCommand.execute(CallCommand.java:79)\n\tat py4j.ClientServerConnection.waitForCommands(ClientServerConnection.java:182)\n\tat py4j.ClientServerConnection.run(ClientServerConnection.java:106)\n\tat java.base/java.lang.Thread.run(Thread.java:840)\n"
     ]
    }
   ],
   "source": [
    "%%sql\n",
    "CREATE TABLE\n",
    "  IF NOT EXISTS glue.demo.users6 (id BIGINT, name STRING, age INT) USING ICEBERG PARTITIONED BY (age);"
   ]
  },
  {
   "cell_type": "code",
   "execution_count": null,
   "id": "fcd075c3-667a-4178-9661-7194738db542",
   "metadata": {},
   "outputs": [],
   "source": []
  }
 ],
 "metadata": {
  "kernelspec": {
   "display_name": "Python 3 (ipykernel)",
   "language": "python",
   "name": "python3"
  },
  "language_info": {
   "codemirror_mode": {
    "name": "ipython",
    "version": 3
   },
   "file_extension": ".py",
   "mimetype": "text/x-python",
   "name": "python",
   "nbconvert_exporter": "python",
   "pygments_lexer": "ipython3",
   "version": "3.10.16"
  }
 },
 "nbformat": 4,
 "nbformat_minor": 5
}
