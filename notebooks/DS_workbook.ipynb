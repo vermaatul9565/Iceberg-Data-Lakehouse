{
 "cells": [
  {
   "cell_type": "markdown",
   "id": "22811653-4e0f-4419-88a1-7008f556a2ac",
   "metadata": {},
   "source": [
    "# Data Science Workbook"
   ]
  },
  {
   "cell_type": "markdown",
   "id": "58ada50d-bd06-4159-ad68-31b618538698",
   "metadata": {},
   "source": [
    "## Glue Calalog Context"
   ]
  },
  {
   "cell_type": "code",
   "execution_count": 3,
   "id": "981eada9-e5f0-404c-8dc0-a61b8aab9b9f",
   "metadata": {},
   "outputs": [
    {
     "name": "stderr",
     "output_type": "stream",
     "text": [
      "25/09/23 06:12:40 WARN SparkSession: Using an existing Spark session; only runtime SQL configurations will take effect.\n"
     ]
    }
   ],
   "source": [
    "from config.spark import SparkIcebergConfig\n",
    "spark = SparkIcebergConfig.create_session(config_type=\"glue\")"
   ]
  },
  {
   "cell_type": "code",
   "execution_count": 2,
   "id": "cf5453f3-090b-4873-8da8-969d25679e21",
   "metadata": {},
   "outputs": [
    {
     "name": "stdout",
     "output_type": "stream",
     "text": [
      "+-------------+\n",
      "|      catalog|\n",
      "+-------------+\n",
      "|         glue|\n",
      "|spark_catalog|\n",
      "+-------------+\n",
      "\n"
     ]
    }
   ],
   "source": [
    "spark.sql(\"SHOW CATALOGS\").show()"
   ]
  },
  {
   "cell_type": "code",
   "execution_count": 9,
   "id": "ab859f38-7604-4194-8144-655b50acb8fb",
   "metadata": {},
   "outputs": [
    {
     "name": "stdout",
     "output_type": "stream",
     "text": [
      "+---------+\n",
      "|namespace|\n",
      "+---------+\n",
      "|   bronze|\n",
      "|     demo|\n",
      "|     gold|\n",
      "|   silver|\n",
      "+---------+\n",
      "\n"
     ]
    }
   ],
   "source": [
    "spark.sql(\"SHOW NAMESPACES\").show()"
   ]
  },
  {
   "cell_type": "code",
   "execution_count": 9,
   "id": "d4c60007-1cde-47fd-8a22-65a07af98cf4",
   "metadata": {},
   "outputs": [
    {
     "data": {
      "text/html": [
       "<table>\n",
       "    <thead>\n",
       "        <tr>\n",
       "            <th>formatted_date</th>\n",
       "            <th>summary</th>\n",
       "            <th>precip_type</th>\n",
       "            <th>temperature_c</th>\n",
       "            <th>apparent_temperature_c</th>\n",
       "            <th>humidity</th>\n",
       "            <th>wind_speed_kmh</th>\n",
       "            <th>wind_bearing_degrees</th>\n",
       "            <th>visibility_km</th>\n",
       "            <th>loud_cover</th>\n",
       "            <th>pressure_mb</th>\n",
       "            <th>daily_summary</th>\n",
       "        </tr>\n",
       "    </thead>\n",
       "    <tbody>\n",
       "        <tr>\n",
       "            <td>2008-05-31 22:00:00</td>\n",
       "            <td>Mostly Cloudy</td>\n",
       "            <td>rain</td>\n",
       "            <td>19.777777777777775000</td>\n",
       "            <td>19.777777777777775000</td>\n",
       "            <td>0.690000000000000000</td>\n",
       "            <td>6.005300000000000000</td>\n",
       "            <td>78.000000000000000000</td>\n",
       "            <td>15.826300000000002000</td>\n",
       "            <td>0.0</td>\n",
       "            <td>None</td>\n",
       "            <td>Mostly cloudy until night.</td>\n",
       "        </tr>\n",
       "    </tbody>\n",
       "</table>"
      ],
      "text/plain": [
       "+---------------------+---------------+-------------+-----------------------+------------------------+----------------------+----------------------+-----------------------+-----------------------+------------+-------------+----------------------------+\n",
       "|      formatted_date |       summary | precip_type |         temperature_c | apparent_temperature_c |             humidity |       wind_speed_kmh |  wind_bearing_degrees |         visibility_km | loud_cover | pressure_mb |              daily_summary |\n",
       "+---------------------+---------------+-------------+-----------------------+------------------------+----------------------+----------------------+-----------------------+-----------------------+------------+-------------+----------------------------+\n",
       "| 2008-05-31 22:00:00 | Mostly Cloudy |        rain | 19.777777777777775000 |  19.777777777777775000 | 0.690000000000000000 | 6.005300000000000000 | 78.000000000000000000 | 15.826300000000002000 |        0.0 |        None | Mostly cloudy until night. |\n",
       "+---------------------+---------------+-------------+-----------------------+------------------------+----------------------+----------------------+-----------------------+-----------------------+------------+-------------+----------------------------+"
      ]
     },
     "execution_count": 9,
     "metadata": {},
     "output_type": "execute_result"
    }
   ],
   "source": [
    "%%sql\n",
    "SELECT *from glue.silver.weatherhistory limit 1;"
   ]
  },
  {
   "cell_type": "code",
   "execution_count": 1,
   "id": "ba991584-d7b9-4e2e-a493-f71484e079ef",
   "metadata": {},
   "outputs": [
    {
     "name": "stderr",
     "output_type": "stream",
     "text": [
      "25/09/18 19:58:31 WARN SparkSession: Using an existing Spark session; only runtime SQL configurations will take effect.\n",
      "                                                                                "
     ]
    },
    {
     "data": {
      "text/html": [
       "<table>\n",
       "    <thead>\n",
       "        <tr>\n",
       "            <th>formatted_date</th>\n",
       "            <th>summary</th>\n",
       "            <th>precip_type</th>\n",
       "            <th>temperature_c</th>\n",
       "            <th>apparent_temperature_c</th>\n",
       "            <th>humidity</th>\n",
       "            <th>wind_speed_kmh</th>\n",
       "            <th>wind_bearing_degrees</th>\n",
       "            <th>visibility_km</th>\n",
       "            <th>loud_cover</th>\n",
       "            <th>pressure_mb</th>\n",
       "            <th>daily_summary</th>\n",
       "        </tr>\n",
       "    </thead>\n",
       "    <tbody>\n",
       "        <tr>\n",
       "            <td>2008-05-31 22:00:00</td>\n",
       "            <td>Mostly Cloudy</td>\n",
       "            <td>rain</td>\n",
       "            <td>19.777777777777775000</td>\n",
       "            <td>19.777777777777775000</td>\n",
       "            <td>0.690000000000000000</td>\n",
       "            <td>6.005300000000000000</td>\n",
       "            <td>78.000000000000000000</td>\n",
       "            <td>15.826300000000002000</td>\n",
       "            <td>0.0</td>\n",
       "            <td>None</td>\n",
       "            <td>Mostly cloudy until night.</td>\n",
       "        </tr>\n",
       "    </tbody>\n",
       "</table>"
      ],
      "text/plain": [
       "+---------------------+---------------+-------------+-----------------------+------------------------+----------------------+----------------------+-----------------------+-----------------------+------------+-------------+----------------------------+\n",
       "|      formatted_date |       summary | precip_type |         temperature_c | apparent_temperature_c |             humidity |       wind_speed_kmh |  wind_bearing_degrees |         visibility_km | loud_cover | pressure_mb |              daily_summary |\n",
       "+---------------------+---------------+-------------+-----------------------+------------------------+----------------------+----------------------+-----------------------+-----------------------+------------+-------------+----------------------------+\n",
       "| 2008-05-31 22:00:00 | Mostly Cloudy |        rain | 19.777777777777775000 |  19.777777777777775000 | 0.690000000000000000 | 6.005300000000000000 | 78.000000000000000000 | 15.826300000000002000 |        0.0 |        None | Mostly cloudy until night. |\n",
       "+---------------------+---------------+-------------+-----------------------+------------------------+----------------------+----------------------+-----------------------+-----------------------+------------+-------------+----------------------------+"
      ]
     },
     "execution_count": 1,
     "metadata": {},
     "output_type": "execute_result"
    }
   ],
   "source": [
    "%%sql\n",
    "SELECT *from glue.gold.weatherhistory limit 1;"
   ]
  },
  {
   "cell_type": "code",
   "execution_count": 10,
   "id": "202b146d-31e9-4496-8169-cbde6247fa73",
   "metadata": {},
   "outputs": [
    {
     "name": "stdout",
     "output_type": "stream",
     "text": [
      "+-------+---+\n",
      "|   Name| ID|\n",
      "+-------+---+\n",
      "|  Alice|  1|\n",
      "|    Bob|  2|\n",
      "|Charlie|  3|\n",
      "+-------+---+\n",
      "\n"
     ]
    }
   ],
   "source": [
    "data = [(\"Alice\", 1), (\"Bob\", 2), (\"Charlie\", 3)]\n",
    "df = spark.createDataFrame(data, [\"Name\", \"ID\"])\n",
    "df.show()"
   ]
  },
  {
   "cell_type": "code",
   "execution_count": 12,
   "id": "5d8b5bb1-c390-44c7-bdd0-19e479d5ae6d",
   "metadata": {},
   "outputs": [],
   "source": [
    "df.writeTo(\"glue.bronze.test_new\").createOrReplace()"
   ]
  },
  {
   "cell_type": "code",
   "execution_count": 13,
   "id": "e3c05a8c-ce69-4423-93bd-44b953046988",
   "metadata": {},
   "outputs": [
    {
     "name": "stderr",
     "output_type": "stream",
     "text": [
      "[Stage 13:>                                                         (0 + 1) / 1]"
     ]
    },
    {
     "name": "stdout",
     "output_type": "stream",
     "text": [
      "+-------+---+\n",
      "|   Name| ID|\n",
      "+-------+---+\n",
      "|  Alice|  1|\n",
      "|    Bob|  2|\n",
      "|Charlie|  3|\n",
      "+-------+---+\n",
      "\n"
     ]
    },
    {
     "name": "stderr",
     "output_type": "stream",
     "text": [
      "                                                                                "
     ]
    }
   ],
   "source": [
    "spark.sql(\"select * from glue.bronze.test_new\").show()"
   ]
  },
  {
   "cell_type": "code",
   "execution_count": null,
   "id": "81688290-c62f-494d-aa57-4c61acb34b44",
   "metadata": {},
   "outputs": [],
   "source": []
  },
  {
   "cell_type": "markdown",
   "id": "7be9e1c5-48ac-4fef-b52f-b9b1b957e4f5",
   "metadata": {},
   "source": [
    "## Query Analysis"
   ]
  },
  {
   "cell_type": "code",
   "execution_count": 9,
   "id": "d4cf5507-a6c7-43c4-8c1a-433ac70bd522",
   "metadata": {},
   "outputs": [
    {
     "name": "stderr",
     "output_type": "stream",
     "text": [
      "                                                                                "
     ]
    },
    {
     "data": {
      "text/html": [
       "<table>\n",
       "    <thead>\n",
       "        <tr>\n",
       "            <th>formatted_date</th>\n",
       "            <th>summary</th>\n",
       "            <th>precip_type</th>\n",
       "            <th>temperature_c</th>\n",
       "            <th>apparent_temperature_c</th>\n",
       "            <th>humidity</th>\n",
       "            <th>wind_speed_kmh</th>\n",
       "            <th>wind_bearing_degrees</th>\n",
       "            <th>visibility_km</th>\n",
       "            <th>loud_cover</th>\n",
       "            <th>pressure_mb</th>\n",
       "            <th>daily_summary</th>\n",
       "        </tr>\n",
       "    </thead>\n",
       "    <tbody>\n",
       "        <tr>\n",
       "            <td>2008-05-31 22:00:00</td>\n",
       "            <td>Mostly Cloudy</td>\n",
       "            <td>rain</td>\n",
       "            <td>19.777777777777775000</td>\n",
       "            <td>19.777777777777775000</td>\n",
       "            <td>0.690000000000000000</td>\n",
       "            <td>6.005300000000000000</td>\n",
       "            <td>78.000000000000000000</td>\n",
       "            <td>15.826300000000002000</td>\n",
       "            <td>0.0</td>\n",
       "            <td>None</td>\n",
       "            <td>Mostly cloudy until night.</td>\n",
       "        </tr>\n",
       "    </tbody>\n",
       "</table>"
      ],
      "text/plain": [
       "+---------------------+---------------+-------------+-----------------------+------------------------+----------------------+----------------------+-----------------------+-----------------------+------------+-------------+----------------------------+\n",
       "|      formatted_date |       summary | precip_type |         temperature_c | apparent_temperature_c |             humidity |       wind_speed_kmh |  wind_bearing_degrees |         visibility_km | loud_cover | pressure_mb |              daily_summary |\n",
       "+---------------------+---------------+-------------+-----------------------+------------------------+----------------------+----------------------+-----------------------+-----------------------+------------+-------------+----------------------------+\n",
       "| 2008-05-31 22:00:00 | Mostly Cloudy |        rain | 19.777777777777775000 |  19.777777777777775000 | 0.690000000000000000 | 6.005300000000000000 | 78.000000000000000000 | 15.826300000000002000 |        0.0 |        None | Mostly cloudy until night. |\n",
       "+---------------------+---------------+-------------+-----------------------+------------------------+----------------------+----------------------+-----------------------+-----------------------+------------+-------------+----------------------------+"
      ]
     },
     "execution_count": 9,
     "metadata": {},
     "output_type": "execute_result"
    }
   ],
   "source": [
    "%%sql\n",
    "select * from glue.silver.weatherhistory limit 1;"
   ]
  },
  {
   "cell_type": "code",
   "execution_count": 8,
   "id": "4721169b-1bf8-4964-8a8d-19b4461a5b73",
   "metadata": {},
   "outputs": [
    {
     "ename": "AnalysisException",
     "evalue": "[UNRESOLVED_COLUMN.WITH_SUGGESTION] A column or function parameter with name `zip_code` cannot be resolved. Did you mean one of the following? [`loud_cover`, `precip_type`, `summary`, `humidity`, `pressure_mb`].; line 2 pos 7;\n'GlobalLimit 200\n+- 'LocalLimit 200\n   +- 'Sort ['zip_code ASC NULLS FIRST], true\n      +- 'Aggregate ['zip_code], ['zip_code, count(1) AS record_count#87L, 'MAX('temp) AS max_temp#88, 'COUNT(distinct 'dt_iso) AS distinct_timestamps#89]\n         +- SubqueryAlias glue.silver.weatherhistory\n            +- RelationV2[formatted_date#90, summary#91, precip_type#92, temperature_c#93, apparent_temperature_c#94, humidity#95, wind_speed_kmh#96, wind_bearing_degrees#97, visibility_km#98, loud_cover#99, pressure_mb#100, daily_summary#101] glue.silver.weatherhistory glue.silver.weatherhistory\n",
     "output_type": "error",
     "traceback": [
      "\u001b[0;31m---------------------------------------------------------------------------\u001b[0m",
      "\u001b[0;31mAnalysisException\u001b[0m                         Traceback (most recent call last)",
      "Cell \u001b[0;32mIn[8], line 1\u001b[0m\n\u001b[0;32m----> 1\u001b[0m \u001b[43mspark\u001b[49m\u001b[38;5;241;43m.\u001b[39;49m\u001b[43msql\u001b[49m\u001b[43m(\u001b[49m\u001b[38;5;124;43m\"\"\"\u001b[39;49m\n\u001b[1;32m      2\u001b[0m \u001b[38;5;124;43mSELECT `zip_code`,\u001b[39;49m\n\u001b[1;32m      3\u001b[0m \u001b[38;5;124;43m       COUNT(*)               AS record_count,\u001b[39;49m\n\u001b[1;32m      4\u001b[0m \u001b[38;5;124;43m       MAX(temp)              AS max_temp,\u001b[39;49m\n\u001b[1;32m      5\u001b[0m \u001b[38;5;124;43m       COUNT(DISTINCT dt_iso) AS distinct_timestamps\u001b[39;49m\n\u001b[1;32m      6\u001b[0m \u001b[38;5;124;43mFROM glue.silver.weatherhistory\u001b[39;49m\n\u001b[1;32m      7\u001b[0m \u001b[38;5;124;43mGROUP BY `zip_code`\u001b[39;49m\n\u001b[1;32m      8\u001b[0m \u001b[38;5;124;43mORDER BY `zip_code`\u001b[39;49m\n\u001b[1;32m      9\u001b[0m \u001b[38;5;124;43mLIMIT 200\u001b[39;49m\u001b[38;5;124;43m\"\"\"\u001b[39;49m\u001b[43m)\u001b[49m;\n",
      "File \u001b[0;32m/opt/spark/python/pyspark/sql/session.py:1631\u001b[0m, in \u001b[0;36mSparkSession.sql\u001b[0;34m(self, sqlQuery, args, **kwargs)\u001b[0m\n\u001b[1;32m   1627\u001b[0m         \u001b[38;5;28;01massert\u001b[39;00m \u001b[38;5;28mself\u001b[39m\u001b[38;5;241m.\u001b[39m_jvm \u001b[38;5;129;01mis\u001b[39;00m \u001b[38;5;129;01mnot\u001b[39;00m \u001b[38;5;28;01mNone\u001b[39;00m\n\u001b[1;32m   1628\u001b[0m         litArgs \u001b[38;5;241m=\u001b[39m \u001b[38;5;28mself\u001b[39m\u001b[38;5;241m.\u001b[39m_jvm\u001b[38;5;241m.\u001b[39mPythonUtils\u001b[38;5;241m.\u001b[39mtoArray(\n\u001b[1;32m   1629\u001b[0m             [_to_java_column(lit(v)) \u001b[38;5;28;01mfor\u001b[39;00m v \u001b[38;5;129;01min\u001b[39;00m (args \u001b[38;5;129;01mor\u001b[39;00m [])]\n\u001b[1;32m   1630\u001b[0m         )\n\u001b[0;32m-> 1631\u001b[0m     \u001b[38;5;28;01mreturn\u001b[39;00m DataFrame(\u001b[38;5;28;43mself\u001b[39;49m\u001b[38;5;241;43m.\u001b[39;49m\u001b[43m_jsparkSession\u001b[49m\u001b[38;5;241;43m.\u001b[39;49m\u001b[43msql\u001b[49m\u001b[43m(\u001b[49m\u001b[43msqlQuery\u001b[49m\u001b[43m,\u001b[49m\u001b[43m \u001b[49m\u001b[43mlitArgs\u001b[49m\u001b[43m)\u001b[49m, \u001b[38;5;28mself\u001b[39m)\n\u001b[1;32m   1632\u001b[0m \u001b[38;5;28;01mfinally\u001b[39;00m:\n\u001b[1;32m   1633\u001b[0m     \u001b[38;5;28;01mif\u001b[39;00m \u001b[38;5;28mlen\u001b[39m(kwargs) \u001b[38;5;241m>\u001b[39m \u001b[38;5;241m0\u001b[39m:\n",
      "File \u001b[0;32m/opt/spark/python/lib/py4j-0.10.9.7-src.zip/py4j/java_gateway.py:1322\u001b[0m, in \u001b[0;36mJavaMember.__call__\u001b[0;34m(self, *args)\u001b[0m\n\u001b[1;32m   1316\u001b[0m command \u001b[38;5;241m=\u001b[39m proto\u001b[38;5;241m.\u001b[39mCALL_COMMAND_NAME \u001b[38;5;241m+\u001b[39m\\\n\u001b[1;32m   1317\u001b[0m     \u001b[38;5;28mself\u001b[39m\u001b[38;5;241m.\u001b[39mcommand_header \u001b[38;5;241m+\u001b[39m\\\n\u001b[1;32m   1318\u001b[0m     args_command \u001b[38;5;241m+\u001b[39m\\\n\u001b[1;32m   1319\u001b[0m     proto\u001b[38;5;241m.\u001b[39mEND_COMMAND_PART\n\u001b[1;32m   1321\u001b[0m answer \u001b[38;5;241m=\u001b[39m \u001b[38;5;28mself\u001b[39m\u001b[38;5;241m.\u001b[39mgateway_client\u001b[38;5;241m.\u001b[39msend_command(command)\n\u001b[0;32m-> 1322\u001b[0m return_value \u001b[38;5;241m=\u001b[39m \u001b[43mget_return_value\u001b[49m\u001b[43m(\u001b[49m\n\u001b[1;32m   1323\u001b[0m \u001b[43m    \u001b[49m\u001b[43manswer\u001b[49m\u001b[43m,\u001b[49m\u001b[43m \u001b[49m\u001b[38;5;28;43mself\u001b[39;49m\u001b[38;5;241;43m.\u001b[39;49m\u001b[43mgateway_client\u001b[49m\u001b[43m,\u001b[49m\u001b[43m \u001b[49m\u001b[38;5;28;43mself\u001b[39;49m\u001b[38;5;241;43m.\u001b[39;49m\u001b[43mtarget_id\u001b[49m\u001b[43m,\u001b[49m\u001b[43m \u001b[49m\u001b[38;5;28;43mself\u001b[39;49m\u001b[38;5;241;43m.\u001b[39;49m\u001b[43mname\u001b[49m\u001b[43m)\u001b[49m\n\u001b[1;32m   1325\u001b[0m \u001b[38;5;28;01mfor\u001b[39;00m temp_arg \u001b[38;5;129;01min\u001b[39;00m temp_args:\n\u001b[1;32m   1326\u001b[0m     \u001b[38;5;28;01mif\u001b[39;00m \u001b[38;5;28mhasattr\u001b[39m(temp_arg, \u001b[38;5;124m\"\u001b[39m\u001b[38;5;124m_detach\u001b[39m\u001b[38;5;124m\"\u001b[39m):\n",
      "File \u001b[0;32m/opt/spark/python/pyspark/errors/exceptions/captured.py:185\u001b[0m, in \u001b[0;36mcapture_sql_exception.<locals>.deco\u001b[0;34m(*a, **kw)\u001b[0m\n\u001b[1;32m    181\u001b[0m converted \u001b[38;5;241m=\u001b[39m convert_exception(e\u001b[38;5;241m.\u001b[39mjava_exception)\n\u001b[1;32m    182\u001b[0m \u001b[38;5;28;01mif\u001b[39;00m \u001b[38;5;129;01mnot\u001b[39;00m \u001b[38;5;28misinstance\u001b[39m(converted, UnknownException):\n\u001b[1;32m    183\u001b[0m     \u001b[38;5;66;03m# Hide where the exception came from that shows a non-Pythonic\u001b[39;00m\n\u001b[1;32m    184\u001b[0m     \u001b[38;5;66;03m# JVM exception message.\u001b[39;00m\n\u001b[0;32m--> 185\u001b[0m     \u001b[38;5;28;01mraise\u001b[39;00m converted \u001b[38;5;28;01mfrom\u001b[39;00m\u001b[38;5;250m \u001b[39m\u001b[38;5;28;01mNone\u001b[39;00m\n\u001b[1;32m    186\u001b[0m \u001b[38;5;28;01melse\u001b[39;00m:\n\u001b[1;32m    187\u001b[0m     \u001b[38;5;28;01mraise\u001b[39;00m\n",
      "\u001b[0;31mAnalysisException\u001b[0m: [UNRESOLVED_COLUMN.WITH_SUGGESTION] A column or function parameter with name `zip_code` cannot be resolved. Did you mean one of the following? [`loud_cover`, `precip_type`, `summary`, `humidity`, `pressure_mb`].; line 2 pos 7;\n'GlobalLimit 200\n+- 'LocalLimit 200\n   +- 'Sort ['zip_code ASC NULLS FIRST], true\n      +- 'Aggregate ['zip_code], ['zip_code, count(1) AS record_count#87L, 'MAX('temp) AS max_temp#88, 'COUNT(distinct 'dt_iso) AS distinct_timestamps#89]\n         +- SubqueryAlias glue.silver.weatherhistory\n            +- RelationV2[formatted_date#90, summary#91, precip_type#92, temperature_c#93, apparent_temperature_c#94, humidity#95, wind_speed_kmh#96, wind_bearing_degrees#97, visibility_km#98, loud_cover#99, pressure_mb#100, daily_summary#101] glue.silver.weatherhistory glue.silver.weatherhistory\n"
     ]
    }
   ],
   "source": [
    "spark.sql(\"\"\"\n",
    "SELECT `zip_code`,\n",
    "       COUNT(*)               AS record_count,\n",
    "       MAX(temp)              AS max_temp,\n",
    "       COUNT(DISTINCT dt_iso) AS distinct_timestamps\n",
    "FROM glue.silver.weatherhistory\n",
    "GROUP BY `zip_code`\n",
    "ORDER BY `zip_code`\n",
    "LIMIT 200\"\"\");"
   ]
  },
  {
   "cell_type": "code",
   "execution_count": null,
   "id": "c616e859-7a4b-48dd-adb2-b7bab6c5571e",
   "metadata": {},
   "outputs": [],
   "source": []
  }
 ],
 "metadata": {
  "kernelspec": {
   "display_name": "Python 3 (ipykernel)",
   "language": "python",
   "name": "python3"
  },
  "language_info": {
   "codemirror_mode": {
    "name": "ipython",
    "version": 3
   },
   "file_extension": ".py",
   "mimetype": "text/x-python",
   "name": "python",
   "nbconvert_exporter": "python",
   "pygments_lexer": "ipython3",
   "version": "3.10.16"
  }
 },
 "nbformat": 4,
 "nbformat_minor": 5
}
